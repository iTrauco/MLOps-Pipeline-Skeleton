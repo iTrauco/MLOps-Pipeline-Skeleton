{
 "cells": [
  {
   "cell_type": "code",
   "execution_count": 1,
   "id": "dd8a9f64-a429-4259-aeab-1bd6abde7e2a",
   "metadata": {},
   "outputs": [],
   "source": [
    "# IMPORTS\n",
    "# dfcx-scrapi\n",
    "from dfcx_scrapi.core.intents import Intents\n",
    "from dfcx_scrapi.tools.dataframe_functions import DataframeFunctions\n",
    "\n",
    "# For connectopm to g-sheets\n",
    "import gspread\n",
    "# import google-auth\n",
    "from oauth2client.service_account import ServiceAccountCredentials\n",
    "from df2gspread import df2gspread as d2g\n",
    "\n",
    "# data manipulation\n",
    "import pandas as pd\n",
    "import numpy as np\n",
    "\n",
    "# general python imports\n",
    "import os\n",
    "from contextlib import redirect_stdout\n",
    "import io\n",
    "import sys\n",
    "import subprocess\n",
    "\n",
    "# gcp df cx apiu direct\n",
    "# import google-cloud-dialogflow-cx\n",
    "from google.cloud import dialogflowcx_v3\n",
    "################################################    \n",
    "# G-SHEETS CONNECTION\n",
    "scope = ['https://www.googleapis.com/auth/spreadsheets','https://www.googleapis.com/auth/drive']\n",
    "\n"
   ]
  },
  {
   "cell_type": "code",
   "execution_count": 2,
   "id": "a98acfb0-0d70-452f-86b4-ca30f124f12a",
   "metadata": {},
   "outputs": [],
   "source": [
    "#authorize sa\n",
    "credentials = ServiceAccountCredentials.from_json_keyfile_name('/Users/christophertrauco/.config/secrets/cx_admin_sa.json', scope)\n",
    "client = gspread.authorize(credentials)\n",
    "spreadsheet_key = '18qvh0uWkA0z7S5CC3xTdvD2wkhsmnINjgxUWmuoCo7M'\n",
    "sh = client.open_by_key(spreadsheet_key)\n",
    "################################################\n",
    "# Index Mappings\n",
    "# Parent\n",
    "parent_value = sh.worksheet('Main').acell('C3').value\n",
    "# General\n",
    "project_id = sh.worksheet('Main').acell('B2').value\n",
    "\n",
    "agent_id = sh.worksheet('Main').acell('B13').value\n",
    "\n",
    "display_name = sh.worksheet('Main').acell('B3').value\n",
    "\n",
    "gcp_region = sh.worksheet('Main').acell('B4').value\n",
    "\n",
    "zone = sh.worksheet('Main').acell('B5').value\n",
    "\n",
    "language = sh.worksheet('Main').acell('B6').value\n",
    "\n",
    "default_start_flow = sh.worksheet('Main').acell('B8').value\n",
    "\n",
    "time_zone = sh.worksheet('Main').acell('B7').value\n",
    "\n",
    "creds_path = sh.worksheet('Main').acell('B10').value\n",
    "\n",
    "google_sheet_name = sh.worksheet('Main').acell('B11').value\n",
    "\n",
    "google_sheet_tab_read = sh.worksheet('Main').acell('B12').value\n",
    "\n",
    "flow_pages = sh.worksheet('Main').acell('B17').value\n",
    "################################################\n",
    "# Intent Workbook =Mappings\n",
    "# intents_ss = sh.worksheet('Index').acell('B1').value\n",
    "\n",
    "# intent_ss_output = sh.worksheet('Index').acell('D1').value\n",
    "\n",
    "# intent_ss_analysis = sh.worksheet('Index').acell('F1').value\n",
    "\n",
    "# intents_ss_hx = sh.worksheet('Index').acell('E1').value\n",
    "################################################\n",
    "# ENV VAR \n",
    "os.environ[\"GOOGLE_APPLICATION_CREDENTIALS\"] = creds_path\n",
    "################################################"
   ]
  },
  {
   "cell_type": "markdown",
   "id": "3dc7fb4e-4086-4eec-8e54-db0db9978ab0",
   "metadata": {},
   "source": [
    "# Transition Route Groups"
   ]
  },
  {
   "cell_type": "code",
   "execution_count": 6,
   "id": "3c7a0577-3e3c-4b35-920d-0513e6733f0b",
   "metadata": {},
   "outputs": [],
   "source": [
    "from google.cloud import dialogflowcx_v3\n",
    "import os\n",
    "import sys"
   ]
  },
  {
   "cell_type": "code",
   "execution_count": 12,
   "id": "c80091d6-13c3-46f3-af3f-04af87a7676b",
   "metadata": {},
   "outputs": [],
   "source": [
    "from google.cloud import dialogflowcx_v3"
   ]
  },
  {
   "cell_type": "code",
   "execution_count": 22,
   "id": "f17af7e6-1c0d-4c71-a7cb-18b6a546a44d",
   "metadata": {},
   "outputs": [],
   "source": [
    "from google.cloud import dialogflowcx_v3beta1\n",
    "class TransitionRouteGroups:\n",
    "    \"\"\"\n",
    "    This class establishes Dialogflow CX(DFCX) API programmatic functionality for DFCX agent flows page transition routes...\n",
    "    \n",
    "    \"\"\"\n",
    "    # class scope variables\n",
    "    file = 'transition_route_groups'\n",
    "    path = '/Users/christophertrauco/skeleton/Data/'\n",
    "\n",
    "    def __init__(self):\n",
    "        self,\n",
    "\n",
    "    def list_transition_route_groups():\n",
    "        # Create a client\n",
    "        client = dialogflowcx_v3beta1.TransitionRouteGroupsClient()\n",
    "    \n",
    "        # Initialize request argument(s)\n",
    "        request = dialogflowcx_v3beta1.ListTransitionRouteGroupsRequest(\n",
    "            parent=parent_value,\n",
    "        )\n",
    "    \n",
    "        # Make the request\n",
    "        page_result = client.list_transition_route_groups(request=request)\n",
    "\n",
    "        # create local file for writing entityTypes as stdout\n",
    "        # if file exists it will be overwritten\n",
    "        # if file doesn't exist it will be create and written to via stdout\n",
    "        sys.stdout = open(f\"{TransitionRouteGroups.path}{TransitionRouteGroups.file}\", \"wt\")\n",
    "    \n",
    "        # Handle the response\n",
    "        for response in page_result:\n",
    "            print(response)\n",
    "        print('Testing output...')\n",
    "\n",
    "\n",
    "    def clean_data():\n",
    "        from python import clean_file\n",
    "        clean_file.clean_file(f'{TransitionRouteGroups.path}{TransitionRouteGroups.file}',f'{TransitionRouteGroups.path}{TransitionRouteGroups.file}.csv')\n",
    "\n",
    "    def create_df():\n",
    "        df = pd.read_csv(f'{TransitionRouteGroups.path}{TransitionRouteGroups.file}.csv', on_bad_lines='skip')\n",
    "        print(df)\n",
    "        return df\n",
    "\n",
    "        \n"
   ]
  },
  {
   "cell_type": "code",
   "execution_count": 23,
   "id": "f8b1c845-fe6c-4239-9c73-e1a17b32dcda",
   "metadata": {},
   "outputs": [],
   "source": [
    "TransitionRouteGroups.list_transition_route_groups()"
   ]
  },
  {
   "cell_type": "code",
   "execution_count": 24,
   "id": "06a546fe-9852-4af4-90e6-28aabc0a833d",
   "metadata": {},
   "outputs": [],
   "source": [
    "TransitionRouteGroups.clean_data()"
   ]
  },
  {
   "cell_type": "code",
   "execution_count": 25,
   "id": "a2ce8c4b-9b80-4076-afaa-893db4873088",
   "metadata": {},
   "outputs": [],
   "source": [
    "df = TransitionRouteGroups.create_df()"
   ]
  },
  {
   "cell_type": "code",
   "execution_count": 26,
   "id": "351acb86-71d0-4415-b61c-32ab96f10fa8",
   "metadata": {},
   "outputs": [
    {
     "data": {
      "text/html": [
       "<div>\n",
       "<style scoped>\n",
       "    .dataframe tbody tr th:only-of-type {\n",
       "        vertical-align: middle;\n",
       "    }\n",
       "\n",
       "    .dataframe tbody tr th {\n",
       "        vertical-align: top;\n",
       "    }\n",
       "\n",
       "    .dataframe thead th {\n",
       "        text-align: right;\n",
       "    }\n",
       "</style>\n",
       "<table border=\"1\" class=\"dataframe\">\n",
       "  <thead>\n",
       "    <tr style=\"text-align: right;\">\n",
       "      <th></th>\n",
       "      <th>Testing output...</th>\n",
       "      <th>Unnamed: 1</th>\n",
       "    </tr>\n",
       "  </thead>\n",
       "  <tbody>\n",
       "  </tbody>\n",
       "</table>\n",
       "</div>"
      ],
      "text/plain": [
       "Empty DataFrame\n",
       "Columns: [Testing output..., Unnamed: 1]\n",
       "Index: []"
      ]
     },
     "execution_count": 26,
     "metadata": {},
     "output_type": "execute_result"
    }
   ],
   "source": [
    "df"
   ]
  }
 ],
 "metadata": {
  "kernelspec": {
   "display_name": "Python 3 (ipykernel)",
   "language": "python",
   "name": "python3"
  },
  "language_info": {
   "codemirror_mode": {
    "name": "ipython",
    "version": 3
   },
   "file_extension": ".py",
   "mimetype": "text/x-python",
   "name": "python",
   "nbconvert_exporter": "python",
   "pygments_lexer": "ipython3",
   "version": "3.11.6"
  }
 },
 "nbformat": 4,
 "nbformat_minor": 5
}
