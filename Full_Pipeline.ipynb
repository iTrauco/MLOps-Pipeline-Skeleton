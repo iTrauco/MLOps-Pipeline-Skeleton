{
 "cells": [
  {
   "cell_type": "code",
   "execution_count": null,
   "id": "0eeccad3-9aa8-4fd4-9392-934c7d6d8535",
   "metadata": {},
   "outputs": [
    {
     "name": "stdout",
     "output_type": "stream",
     "text": [
      "fatal: destination path '/tmp/theventurecity' already exists and is not an empty directory.\n",
      "mv: rename /tmp/theventurecity/python/tvc_transform.py to tvc_transform.py: No such file or directory\n",
      "mv: rename /tmp/theventurecity/python/tvc_load_colab.py to tvc_load_colab.py: No such file or directory\n",
      "override r--r--r-- christophertrauco/wheel for /tmp/theventurecity/.git/objects/pack/pack-117670cbd4f4c586fa2c910971398cfde1066790.pack? "
     ]
    }
   ],
   "source": [
    "### Pandas to read the data from its source and manipulate it in memory\n",
    "import pandas as pd\n",
    "\n",
    "\n",
    "### The IPython.display library allows us to embed an iFrame within this \n",
    "### notebook\n",
    "from IPython.display import IFrame\n",
    "\n",
    "\n",
    "### To run this with functions from TheVentureCity's GitHub repository,\n",
    "### clone the repository to the Google Colaboratory runtime environment\n",
    "### and then import the code. This code allows us to run pre-existing functions \n",
    "### rather than having to define them inline within the notebook\n",
    "### THIS IS ONLY APPLICABLE IF YOU WANT TO ACCESS THOSE FUNCTIONS ###\n",
    "from importlib.machinery import SourceFileLoader\n",
    "!git clone https://github.com/theventurecity/data-toolkit.git /tmp/theventurecity\n",
    "!mv /tmp/theventurecity/python/tvc_transform.py tvc_transform.py\n",
    "!mv /tmp/theventurecity/python/tvc_load_colab.py tvc_load_colab.py\n",
    "!rm -r /tmp/theventurecity\n",
    "tvct = SourceFileLoader('tvc_transform', 'tvc_transform.py').load_module()\n",
    "tvcl = SourceFileLoader('tvc_load_colab', 'tvc_load_colab.py').load_module()"
   ]
  },
  {
   "cell_type": "code",
   "execution_count": null,
   "id": "e17cee39-5a2c-4525-95ce-602d0db3d3b8",
   "metadata": {},
   "outputs": [],
   "source": [
    "\n",
    "# 1. Extract raw event log data from a CSV\n",
    "# This example uses a data file for a sample company from our GitHub repository called ServBiz. In this step we read the data file into memory as a Pandas dataframe we name \"t.\"\n",
    "\n",
    "\n",
    "filename = 'https://raw.githubusercontent.com/theventurecity/analytics/master/data/ServBiz_transactions.csv'\n",
    "t = pd.read_csv(filename)\n",
    "t.tail(10)\n",
    "     "
   ]
  },
  {
   "cell_type": "code",
   "execution_count": null,
   "id": "1b627959-8eac-4f07-8d67-5dea3be280ac",
   "metadata": {},
   "outputs": [],
   "source": [
    "# 2. Transform the raw data into analysis dataframes\n",
    "# 2.1 Create DAU Decorated and MAU Decorated \"building block\" dataframes\n",
    "# Note: For a more detailed discussion about creating the DAU and DAU Decorated dataframes, complete with inline code, visit Create the DAU Decorated Data Set\n",
    "\n",
    "# 2.1.1 Create Daily Active Users (DAU) dataframe\n",
    "# The DAU dataframe aggregates all activity by user and day.\n",
    "\n",
    "\n",
    "# Run the create_dau_df function and show the first ten rows of the resulting dataframe\n",
    "dau = tvct.create_dau_df(t, \n",
    "                         user_id = 'client_id', \n",
    "                         activity_date = 'date', \n",
    "                         inc_amt = 'value_usd',\n",
    "                         segment_col = 'segment'\n",
    "                        )\n",
    "dau.head(10)"
   ]
  },
  {
   "cell_type": "code",
   "execution_count": null,
   "id": "70e96eb1-ce40-40b0-ab0b-5fd901324290",
   "metadata": {},
   "outputs": [],
   "source": [
    "# 2.1.2 Calculate First Date and DAU Decorated dataframes\n",
    "# The create_dau_decorated_df function calls the create_first_dt_df if no first_dt dataframe is specified\n",
    "\n",
    "\n",
    "# Run the create_dau_decorated_df function and show the first ten rows of the resulting dataframe\n",
    "dau_decorated = tvct.create_dau_decorated_df(dau)\n",
    "dau_decorated.head(10)"
   ]
  },
  {
   "cell_type": "code",
   "execution_count": null,
   "id": "e41ecef8-5644-4b64-a9e9-a2421a972f1f",
   "metadata": {},
   "outputs": [],
   "source": [
    "#2.1.3 Calculate MAU Decorated dataframe\n",
    "\n",
    "# Run create_xau_decorated_df for MAU's (using 'month'), unsegmented\n",
    "mau_decorated = tvct.create_xau_decorated_df(dau_decorated, 'month', use_segment=False)\n",
    "mau_decorated.tail(10)\n",
    "     \n",
    "#Creating Monthly Active Users Decor"
   ]
  },
  {
   "cell_type": "code",
   "execution_count": null,
   "id": "98610f7b-945f-4cae-9a18-38cbe592c5e0",
   "metadata": {},
   "outputs": [],
   "source": [
    "\n",
    "# 2.2 Transform into a Growth Accounting analysis dataframe\n",
    "# Note: The function called in this section is different than what appears in the Mini-Pipeline: Growth Accounting, which was condensed for brevity. The resultant dataset is therefore adjusted to write only the relevant columns to Google Sheets.\n",
    "\n",
    "\n",
    "TIME_PER = 'month'\n",
    "USE_SEGMENT = False\n",
    "KEEP_LAST_PER = True\n",
    "DATE_LIMIT = None\n",
    "INCL_ZERO_INC = False\n",
    "\n",
    "user_ga, rev_ga = tvct.create_growth_accounting_dfs(mau_decorated, \n",
    "                                                    time_period=TIME_PER, \n",
    "                                                    use_segment=USE_SEGMENT, \n",
    "                                                    keep_last_period=KEEP_LAST_PER, \n",
    "                                                    date_limit=DATE_LIMIT, \n",
    "                                                    include_zero_inc=INCL_ZERO_INC)\n",
    "user_ga_with_ratios = tvct.calc_user_ga_ratios(user_ga, \n",
    "                                               time_period=TIME_PER, \n",
    "                                               use_segment=USE_SEGMENT, \n",
    "                                               growth_rate_periods=12)\n",
    "user_ga_with_ratios.tail(10)"
   ]
  },
  {
   "cell_type": "code",
   "execution_count": null,
   "id": "fb6c0e84-e899-457a-8763-9d9c8055f9d4",
   "metadata": {},
   "outputs": [],
   "source": [
    "# 2.3 Transform into a Cohort Analysis dataframe\n",
    "# reate the MAU Cohorts dataframe, using MAU Decorated as an input\n",
    "\n",
    "\n",
    "mau_cohorts = tvct.create_xau_cohort_df(mau_decorated, 'month')\n",
    "mau_cohorts.tail(10)"
   ]
  },
  {
   "cell_type": "code",
   "execution_count": null,
   "id": "a7aa271e-a3fb-4e07-b7e8-06bddf53ae33",
   "metadata": {},
   "outputs": [],
   "source": [
    "#2.4.2 Calculate the DAU Histogram\n",
    "\n",
    "dau_hist_L28 = tvct.calc_xau_hist(dau_decorated, \n",
    "                                  'day', \n",
    "                                  dau_decorated['activity_date'].max(), \n",
    "                                  window_days=28, \n",
    "                                  use_segment=False)\n",
    "dau_hist_L28\n",
    "     \n"
   ]
  },
  {
   "cell_type": "markdown",
   "id": "cfa58f5f-831a-4398-928d-46935aea8e07",
   "metadata": {},
   "source": [
    "# to g-sheets\n"
   ]
  },
  {
   "cell_type": "code",
   "execution_count": null,
   "id": "a3fbbbef-24ad-4a74-97ce-6b275e4d65bd",
   "metadata": {},
   "outputs": [],
   "source": [
    "from google.colab import auth\n",
    "auth.authenticate_user()\n",
    "\n",
    "import gspread\n",
    "from google.auth import default\n",
    "creds, _ = default()\n",
    "\n",
    "gc = gspread.authorize(creds)"
   ]
  },
  {
   "cell_type": "code",
   "execution_count": null,
   "id": "606fdb11-fca9-49ae-9b77-0b832f8f3b5e",
   "metadata": {},
   "outputs": [],
   "source": [
    "### Be sure to set this value to refer to your Google Sheets workbook\n",
    "GOOGLE_SHEET_KEY = '1-XnO_eWkRwX-E1fiA2Jkbe3kJvoyoPFsdeW7vnF6zS0' \n"
   ]
  },
  {
   "cell_type": "code",
   "execution_count": null,
   "id": "0f9cd5b7-6a96-4b5a-a28e-c00b1f9dc378",
   "metadata": {},
   "outputs": [],
   "source": [
    "print('https://docs.google.com/spreadsheets/d/' + GOOGLE_SHEET_KEY)\n"
   ]
  },
  {
   "cell_type": "code",
   "execution_count": null,
   "id": "60b21da7-488c-4c6e-9c87-d3ee9264d01a",
   "metadata": {},
   "outputs": [],
   "source": [
    "\n",
    "### Execute this function to write the data in the dataframe to the google sheet\n",
    "### and tab name specified using the gc Google credentials\n",
    "tvcl.write_to_google_sheet(user_ga_with_ratios, \n",
    "                           GOOGLE_SHEET_KEY, \n",
    "                           'MAU Growth Accounting', \n",
    "                           gc)\n",
    "     \n"
   ]
  },
  {
   "cell_type": "code",
   "execution_count": null,
   "id": "dbb17368-8060-44fe-a4a0-6ca79b566235",
   "metadata": {},
   "outputs": [],
   "source": [
    "\n",
    "### Execute this function to write the data in the dataframe to the google sheet\n",
    "### and tab name specified using the gc Google credentials\n",
    "tvcl.write_to_google_sheet(mau_cohorts, \n",
    "                           GOOGLE_SHEET_KEY, \n",
    "                           'MAU Retention by Cohort', \n",
    "                           gc)\n",
    "     "
   ]
  },
  {
   "cell_type": "code",
   "execution_count": null,
   "id": "53476f9e-b122-49d9-a236-e5f9c818a8c2",
   "metadata": {},
   "outputs": [],
   "source": [
    "\n",
    "### Execute this function to write the data in the dataframe to the google sheet\n",
    "### and tab name specified using the gc Google credentials\n",
    "tvcl.write_to_google_sheet(dau_hist_L28, \n",
    "                           GOOGLE_SHEET_KEY, \n",
    "                           'DAU Histogram L28', \n",
    "                           gc)\n",
    "     "
   ]
  },
  {
   "cell_type": "code",
   "execution_count": null,
   "id": "3ec50787-ba98-4e90-bc5d-5b06ca7a516d",
   "metadata": {},
   "outputs": [],
   "source": [
    "\n",
    "### Execute this function to write the data in the dataframe to the google sheet\n",
    "### and tab name specified using the gc Google credentials\n",
    "tvcl.write_to_google_sheet(rolling_dau_mau, \n",
    "                           GOOGLE_SHEET_KEY, \n",
    "                           'Rolling DAU/MAU', \n",
    "                           gc)\n",
    "     "
   ]
  },
  {
   "cell_type": "code",
   "execution_count": null,
   "id": "7c9dd0e1-89fb-44d2-a388-3243a6e1239c",
   "metadata": {},
   "outputs": [],
   "source": []
  }
 ],
 "metadata": {
  "kernelspec": {
   "display_name": "Python 3 (ipykernel)",
   "language": "python",
   "name": "python3"
  },
  "language_info": {
   "codemirror_mode": {
    "name": "ipython",
    "version": 3
   },
   "file_extension": ".py",
   "mimetype": "text/x-python",
   "name": "python",
   "nbconvert_exporter": "python",
   "pygments_lexer": "ipython3",
   "version": "3.11.6"
  }
 },
 "nbformat": 4,
 "nbformat_minor": 5
}
