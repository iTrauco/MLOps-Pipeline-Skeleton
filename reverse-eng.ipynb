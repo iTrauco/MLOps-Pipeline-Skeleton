{
 "cells": [
  {
   "cell_type": "markdown",
   "id": "7313fb49-e7b4-4c0a-9a71-4a525beee140",
   "metadata": {},
   "source": [
    "### convert config.ini to config.yaml"
   ]
  },
  {
   "cell_type": "code",
   "execution_count": 15,
   "id": "df6b7c9f-4b2d-4ad1-be49-946b078016c7",
   "metadata": {},
   "outputs": [],
   "source": [
    "import configparser\n",
    "import yaml"
   ]
  },
  {
   "cell_type": "code",
   "execution_count": 16,
   "id": "f67673f6-af65-45cd-aff0-9a29a3716ff1",
   "metadata": {},
   "outputs": [],
   "source": [
    "\n",
    "config_object = configparser.ConfigParser()\n",
    "file =open(\"/Users/christophertrauco/skeleton/python/config.ini\",\"r\")\n",
    "yaml_file =open(\"config.yaml\",\"w\")\n",
    "config_object.read_file(file)\n",
    "output_dict=dict()\n",
    "sections=config_object.sections()\n",
    "for section in sections:\n",
    "    items=config_object.items(section)\n",
    "    output_dict[section]=dict(items)\n",
    "yaml.dump(output_dict,yaml_file)\n",
    "yaml_file.close()\n",
    "file.close()"
   ]
  },
  {
   "cell_type": "code",
   "execution_count": null,
   "id": "679d3ce5-4424-4426-88d1-eaa6493d6a91",
   "metadata": {},
   "outputs": [],
   "source": []
  },
  {
   "cell_type": "raw",
   "id": "f47e10d4-9a7d-4cb5-8887-bde5d1de142c",
   "metadata": {},
   "source": [
    "# -*- coding: utf-8 -*-\n",
    "\n",
    "# skeleton is for the logic of the data flows, coiabs is not important at this time\n",
    "# from google.colab import auth\n",
    "from oauth2client.client import GoogleCredentials\n",
    "import gspread\n",
    "from gspread_dataframe import set_with_dataframe\n",
    "\n",
    "\n",
    "\n",
    "def google_authenticate():\n",
    "    auth.authenticate_user()\n",
    "    gc = gspread.authorize(GoogleCredentials.get_application_default())\n",
    "    return gc\n",
    "\n",
    "\n",
    "\n",
    "def write_to_google_sheet(dataframe, spreadsheet_key, worksheet_name, goog_creds):\n",
    "    sh = goog_creds.open_by_key(spreadsheet_key)\n",
    "    ws = None\n",
    "    worksheet_list = sh.worksheets()\n",
    "    for worksheet in worksheet_list:\n",
    "        if worksheet.title == worksheet_name:\n",
    "            ws = worksheet\n",
    "            \n",
    "    if ws is None:\n",
    "        ws = sh.add_worksheet(title = worksheet_name, rows=\"1\", cols = \"1\")\n",
    "\n",
    "    set_with_dataframe(ws, dataframe, row=1, col=1, include_index=False, \n",
    "                       include_column_header=True, resize=True, \n",
    "                       allow_formulas=True)"
   ]
  },
  {
   "cell_type": "code",
   "execution_count": 18,
   "id": "ebfe3b59-cf3e-49f4-b7dd-d5c0aa63cd65",
   "metadata": {},
   "outputs": [],
   "source": [
    "# -*- coding: utf-8 -*-\n",
    "\n",
    "import gspread\n",
    "from gspread_dataframe import set_with_dataframe\n",
    "from oauth2client.service_account import ServiceAccountCredentials\n",
    "\n",
    "SCOPES = ['https://www.googleapis.com/auth/spreadsheets'] \n",
    "\n",
    "# class TVCLoad:\n",
    "#     def __init__(self, credentials_file):\n",
    "#         self.gc = self.init_gsheets_client(credentials_file, SCOPES)\n",
    "\n",
    "class BCLoad:\n",
    "    def __init__(self, credentials_file):\n",
    "        self.gc = self.init_gsheets_client(credentials_file, SCOPES)\n",
    "\n",
    "\n",
    "    def init_gsheets_client(self, credentials_file, scopes,  **kwargs):\n",
    "        creds = ServiceAccountCredentials.from_json_keyfile_name(credentials_file, \n",
    "                                                                 scopes)\n",
    "        client = gspread.authorize(creds)\n",
    "        \n",
    "        return client\n",
    "\n",
    "    \n",
    "    \n",
    "    def write_to_google_sheet(self, dataframe, worksheet_name, spreadsheet_key):\n",
    "      \n",
    "      sh = self.gc.open_by_key(spreadsheet_key)\n",
    "      \n",
    "      ws = None\n",
    "      worksheet_list = sh.worksheets()\n",
    "      for worksheet in worksheet_list:\n",
    "        if worksheet.title == worksheet_name:\n",
    "          ws = worksheet\n",
    "      if ws is None:\n",
    "        ws = sh.add_worksheet(title = worksheet_name, rows=\"1\", cols = \"1\")\n",
    "        \n",
    "      set_with_dataframe(ws, dataframe, row=1, col=1, include_index=False, \n",
    "                         include_column_header=True, resize=True, allow_formulas=True)    \n",
    "    \n",
    "\n",
    "    "
   ]
  },
  {
   "cell_type": "code",
   "execution_count": null,
   "id": "b92c0667-235d-4002-a4ee-8a533d5e5b41",
   "metadata": {},
   "outputs": [],
   "source": []
  }
 ],
 "metadata": {
  "kernelspec": {
   "display_name": "Python 3 (ipykernel)",
   "language": "python",
   "name": "python3"
  },
  "language_info": {
   "codemirror_mode": {
    "name": "ipython",
    "version": 3
   },
   "file_extension": ".py",
   "mimetype": "text/x-python",
   "name": "python",
   "nbconvert_exporter": "python",
   "pygments_lexer": "ipython3",
   "version": "3.11.6"
  }
 },
 "nbformat": 4,
 "nbformat_minor": 5
}
