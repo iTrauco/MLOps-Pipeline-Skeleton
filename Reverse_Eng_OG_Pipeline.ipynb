{
 "cells": [
  {
   "cell_type": "markdown",
   "id": "7313fb49-e7b4-4c0a-9a71-4a525beee140",
   "metadata": {},
   "source": [
    "## Jupyter Notebook Module Reloads"
   ]
  },
  {
   "cell_type": "code",
   "execution_count": 18,
   "id": "d9a08027-f989-41ec-b3a3-a76488c623cb",
   "metadata": {},
   "outputs": [],
   "source": [
    "# %load_ext autoreload\n",
    "# %autoreload 2\n"
   ]
  },
  {
   "cell_type": "code",
   "execution_count": 19,
   "id": "62cd1d33-7b02-42bf-a59f-85f42929dcf3",
   "metadata": {},
   "outputs": [],
   "source": [
    "!ipython kernel install --name \"local-venv-kernel\" --user"
   ]
  },
  {
   "cell_type": "code",
   "execution_count": 20,
   "id": "df6b7c9f-4b2d-4ad1-be49-946b078016c7",
   "metadata": {},
   "outputs": [],
   "source": [
    "import configparser\n",
    "import yaml\n",
    "import os"
   ]
  },
  {
   "cell_type": "markdown",
   "id": "13efe078-d7ae-4c35-926b-c840d72370e0",
   "metadata": {},
   "source": [
    "# 🚨 Reverse Engineering Original Pipeline Dataflow Logic Start"
   ]
  },
  {
   "cell_type": "code",
   "execution_count": 21,
   "id": "932690e0-2c75-4ea4-bb74-403efaf134f2",
   "metadata": {},
   "outputs": [],
   "source": [
    "# -*- coding: utf-8 -*-\n",
    "\n",
    "### Import Relevant Libraries\n",
    "import os"
   ]
  },
  {
   "cell_type": "markdown",
   "id": "4c9f1a42-5187-434c-bde8-eca517877bb0",
   "metadata": {},
   "source": [
    "# ⬇️ RETURN TO THIS AFTER THE DATA FLOW LOGIC CONFIRMED ⬇️"
   ]
  },
  {
   "cell_type": "code",
   "execution_count": 22,
   "id": "a81d870d-e546-4d74-8483-c8eb82b7b2b0",
   "metadata": {},
   "outputs": [],
   "source": [
    "\n",
    "# PYTHON_FOLDER = os.environ['PYTHON_FOLDER']  # Requires an environment variable to be preset\n",
    "# os.chdir(PYTHON_FOLDER)\n"
   ]
  },
  {
   "cell_type": "markdown",
   "id": "cac4fad4-c78b-43d2-9556-e19aa87a069d",
   "metadata": {},
   "source": [
    "# ⬆️  RETURN TO THIS AFTER THE DATA FLOW LOGIC CONFIRMED ⬆️ "
   ]
  },
  {
   "cell_type": "code",
   "execution_count": 23,
   "id": "e02b4cfb-09ad-4633-90b0-795c1b831807",
   "metadata": {},
   "outputs": [],
   "source": [
    "\n",
    "import pandas as pd\n",
    "import numpy as np\n",
    "import configparser\n",
    "\n",
    "import sys\n",
    "\n",
    "\n",
    "from python import bc_transform as bct\n",
    "# from python import bc_transform as bct\n",
    "from python import bc_load_service_account as bcload\n",
    "\n",
    "### Set up Python output to show every dataframe column\n",
    "pd.set_option('display.max_columns', 500)\n"
   ]
  },
  {
   "cell_type": "code",
   "execution_count": 24,
   "id": "808965ee-888b-4a72-a154-0cc423c6e83b",
   "metadata": {},
   "outputs": [],
   "source": [
    "\n",
    "\n",
    "\n",
    "### Set variables by reading from the config.ini file\n",
    "company_name = 'ServBiz'\n",
    "# config = configparser.ConfigParser()\n",
    "# config.read('config.yaml')\n",
    "\n",
    "#GOOGLE_CREDENTIALS_FILE = config[company_name]['GOOGLE_CREDENTIALS_FILE']\n",
    "GOOGLE_CREDENTIALS_FILE = '/Users/christophertrauco/skeleton/python/credentials.json'\n",
    "\n",
    "# GOOGLE_SPREADSHEET_KEY = config[company_name]['GOOGLE_SPREADSHEET_KEY']\n",
    "GOOGLE_SPREADSHEET_KEY = '1ETXNPRMjKcsbIdKAziQNuG1Llo_T5U3ayzO1ugiW9_o'\n",
    "\n",
    "\n",
    "# RAW_DATAFILE = config[company_name]['RAW_DATAFILE']\n",
    "RAW_DATAFILE = 'https://raw.githubusercontent.com/theventurecity/data-toolkit/master/data/ServBiz_transactions.csv'\n",
    "\n",
    "### Extract raw data\n",
    "t = pd.read_csv(RAW_DATAFILE)\n",
    "\n",
    "### Instantiate TVCLoad object with Google credentials file to write to Google Sheets\n",
    "bcl = bcload.BCLoad(GOOGLE_CREDENTIALS_FILE)\n",
    "\n",
    "\n",
    "### Define segments. Each Segment name maps to a segment_col name\n",
    "segments = {'Unsegmented' : None,\n",
    "            'Agent - ' : 'segment'\n",
    "            }\n",
    "\n",
    "\n",
    "for seg in segments:\n",
    "    print('Processing the', seg, 'segment')\n",
    "    \n",
    "    seg_col = segments[seg]\n",
    "    if seg_col is None:\n",
    "        use_seg = False\n",
    "    else:\n",
    "        use_seg = True\n",
    "\n",
    "    "
   ]
  },
  {
   "cell_type": "code",
   "execution_count": 25,
   "id": "d4f61a21-dcf3-457a-8e92-9537103c920c",
   "metadata": {},
   "outputs": [],
   "source": [
    "\n",
    "    # ### Transform the raw data into dau_decorated\n",
    "    # dau = bct.create_dau_df(t, \n",
    "    #                          user_id = 'client_id', \n",
    "    #                          activity_date = 'date', \n",
    "    #                          inc_amt = 'value_usd',\n",
    "    #                          segment_col = seg_col\n",
    "    #                         )\n",
    "    \n",
    "    # dau_decorated = bct.create_dau_decorated_df(dau)\n",
    "    \n",
    "    \n",
    "    # ### Calculate Weekly Growth Accounting and Cohort Analysis based on wau_decorated\n",
    "    # # WAU Decorated\n",
    "    # wau_decorated = bct.create_xau_decorated_df(dau_decorated, 'week', use_segment=use_seg)\n"
   ]
  },
  {
   "cell_type": "markdown",
   "id": "71e2b87d-ad4b-4b37-aad9-c711d2aab35d",
   "metadata": {},
   "source": []
  },
  {
   "cell_type": "code",
   "execution_count": 26,
   "id": "38ca8570-25ba-456c-b5d6-d791a5005c72",
   "metadata": {},
   "outputs": [],
   "source": [
    "# from clean_file import clean_file"
   ]
  },
  {
   "cell_type": "code",
   "execution_count": 27,
   "id": "06331b57-14a9-4759-b610-486dc17d9d3b",
   "metadata": {},
   "outputs": [],
   "source": [
    "from python import bc_transform"
   ]
  },
  {
   "cell_type": "markdown",
   "id": "d1ee4109-f926-4582-8563-908cf23916ef",
   "metadata": {},
   "source": [
    "## Output No. 1 -  All Agent Intents"
   ]
  },
  {
   "cell_type": "code",
   "execution_count": 31,
   "id": "3d427b02-6519-451a-a865-2896d9b738d9",
   "metadata": {},
   "outputs": [],
   "source": [
    "from python import bc_transform\n",
    "df = pd.DataFrame(bc_transform.Intents.create_intents_df())\n",
    "\n",
    "bcl.write_to_google_sheet(df, seg + 'Intents', GOOGLE_SPREADSHEET_KEY)"
   ]
  },
  {
   "cell_type": "markdown",
   "id": "6bf85b28-72b9-40a5-918d-ae34f2d57884",
   "metadata": {},
   "source": [
    "## Output No. 2 - All Agent Entities"
   ]
  },
  {
   "cell_type": "code",
   "execution_count": 33,
   "id": "3ecb9b88-80af-48c4-9fc9-af9fafae2f5e",
   "metadata": {},
   "outputs": [
    {
     "ename": "ModuleNotFoundError",
     "evalue": "No module named 'clean_file'",
     "output_type": "error",
     "traceback": [
      "\u001b[0;31m---------------------------------------------------------------------------\u001b[0m",
      "\u001b[0;31mModuleNotFoundError\u001b[0m                       Traceback (most recent call last)",
      "Cell \u001b[0;32mIn[33], line 4\u001b[0m\n\u001b[1;32m      2\u001b[0m bc_transform\u001b[38;5;241m.\u001b[39mEntityTypes\u001b[38;5;241m.\u001b[39mlist_entity_types()\n\u001b[1;32m      3\u001b[0m \u001b[38;5;66;03m# bc_transform.EntityTypes.clean_data()\u001b[39;00m\n\u001b[0;32m----> 4\u001b[0m df2 \u001b[38;5;241m=\u001b[39m pd\u001b[38;5;241m.\u001b[39mDataFrame(\u001b[43mbc_transform\u001b[49m\u001b[38;5;241;43m.\u001b[39;49m\u001b[43mEntityTypes\u001b[49m\u001b[38;5;241;43m.\u001b[39;49m\u001b[43mcreate_df\u001b[49m\u001b[43m(\u001b[49m\u001b[43m)\u001b[49m)\n\u001b[1;32m      6\u001b[0m bcl\u001b[38;5;241m.\u001b[39mwrite_to_google_sheet(df2, seg \u001b[38;5;241m+\u001b[39m \u001b[38;5;124m'\u001b[39m\u001b[38;5;124mentityTypes\u001b[39m\u001b[38;5;124m'\u001b[39m, GOOGLE_SPREADSHEET_KEY)\n",
      "File \u001b[0;32m~/skeleton/python/bc_transform.py:180\u001b[0m, in \u001b[0;36mEntityTypes.create_df\u001b[0;34m()\u001b[0m\n\u001b[1;32m    179\u001b[0m \u001b[38;5;28;01mdef\u001b[39;00m \u001b[38;5;21mcreate_df\u001b[39m():\n\u001b[0;32m--> 180\u001b[0m     \u001b[38;5;28;01mfrom\u001b[39;00m \u001b[38;5;21;01mclean_file\u001b[39;00m \u001b[38;5;28;01mimport\u001b[39;00m clean_file\n\u001b[1;32m    181\u001b[0m     clean_file(\u001b[38;5;124mf\u001b[39m\u001b[38;5;124m'\u001b[39m\u001b[38;5;132;01m{\u001b[39;00mEntityTypes\u001b[38;5;241m.\u001b[39mpath\u001b[38;5;132;01m}\u001b[39;00m\u001b[38;5;132;01m{\u001b[39;00mEntityTypes\u001b[38;5;241m.\u001b[39mfile\u001b[38;5;132;01m}\u001b[39;00m\u001b[38;5;124m'\u001b[39m,\u001b[38;5;124mf\u001b[39m\u001b[38;5;124m'\u001b[39m\u001b[38;5;132;01m{\u001b[39;00mEntityTypes\u001b[38;5;241m.\u001b[39mpath\u001b[38;5;132;01m}\u001b[39;00m\u001b[38;5;132;01m{\u001b[39;00mEntityTypes\u001b[38;5;241m.\u001b[39mfile\u001b[38;5;132;01m}\u001b[39;00m\u001b[38;5;124m.csv\u001b[39m\u001b[38;5;124m'\u001b[39m)\n\u001b[1;32m    182\u001b[0m     df \u001b[38;5;241m=\u001b[39m pd\u001b[38;5;241m.\u001b[39mread_csv(\u001b[38;5;124mf\u001b[39m\u001b[38;5;124m'\u001b[39m\u001b[38;5;132;01m{\u001b[39;00mEntityTypes\u001b[38;5;241m.\u001b[39mpath\u001b[38;5;132;01m}\u001b[39;00m\u001b[38;5;132;01m{\u001b[39;00mEntityTypes\u001b[38;5;241m.\u001b[39mfile\u001b[38;5;132;01m}\u001b[39;00m\u001b[38;5;124m.csv\u001b[39m\u001b[38;5;124m'\u001b[39m, on_bad_lines\u001b[38;5;241m=\u001b[39m\u001b[38;5;124m'\u001b[39m\u001b[38;5;124mskip\u001b[39m\u001b[38;5;124m'\u001b[39m)\n",
      "\u001b[0;31mModuleNotFoundError\u001b[0m: No module named 'clean_file'"
     ]
    }
   ],
   "source": [
    "# Output of all agent entity type values and mappings\n",
    "bc_transform.EntityTypes.list_entity_types()\n",
    "# bc_transform.EntityTypes.clean_data()\n",
    "df2 = pd.DataFrame(bc_transform.EntityTypes.create_df())\n",
    "\n",
    "bcl.write_to_google_sheet(df2, seg + 'entityTypes', GOOGLE_SPREADSHEET_KEY)"
   ]
  },
  {
   "cell_type": "code",
   "execution_count": null,
   "id": "4d81a17e-5152-4a8b-980b-6c56f5e2cb37",
   "metadata": {},
   "outputs": [],
   "source": []
  },
  {
   "cell_type": "code",
   "execution_count": null,
   "id": "a66bee6c-9434-4647-8995-13c42b13ccdf",
   "metadata": {},
   "outputs": [],
   "source": []
  },
  {
   "cell_type": "code",
   "execution_count": null,
   "id": "c56bb3f8-8364-4d2d-83e5-7967317a05a3",
   "metadata": {},
   "outputs": [],
   "source": []
  },
  {
   "cell_type": "code",
   "execution_count": null,
   "id": "b4c57a8d-8970-4943-a856-2acbc661e4e0",
   "metadata": {},
   "outputs": [],
   "source": []
  },
  {
   "cell_type": "code",
   "execution_count": null,
   "id": "c831947d-9713-4cc3-8a2a-981149dc9374",
   "metadata": {},
   "outputs": [],
   "source": []
  },
  {
   "cell_type": "code",
   "execution_count": null,
   "id": "84a3f21f-e839-4afd-9b10-1d532a9b9231",
   "metadata": {},
   "outputs": [],
   "source": []
  },
  {
   "cell_type": "code",
   "execution_count": null,
   "id": "e3964e0f-3c31-4b6e-aae9-1a34d14974dc",
   "metadata": {},
   "outputs": [],
   "source": []
  },
  {
   "cell_type": "code",
   "execution_count": null,
   "id": "d797fe0e-fa31-4a5b-84e0-71420a686910",
   "metadata": {},
   "outputs": [],
   "source": []
  },
  {
   "cell_type": "code",
   "execution_count": null,
   "id": "0436e762-9364-4f52-92a0-8a6f62e8f2e6",
   "metadata": {},
   "outputs": [],
   "source": []
  },
  {
   "cell_type": "code",
   "execution_count": null,
   "id": "ec32ed6d-d3e2-4c70-9e06-28962987fdf6",
   "metadata": {},
   "outputs": [],
   "source": []
  },
  {
   "cell_type": "code",
   "execution_count": null,
   "id": "7280a9c7-9653-49e4-adce-3f8fd81979e3",
   "metadata": {},
   "outputs": [],
   "source": []
  },
  {
   "cell_type": "code",
   "execution_count": null,
   "id": "47d1c618-16b8-438a-ae3b-eb6cee9c8167",
   "metadata": {},
   "outputs": [],
   "source": []
  },
  {
   "cell_type": "code",
   "execution_count": null,
   "id": "b92c0667-235d-4002-a4ee-8a533d5e5b41",
   "metadata": {},
   "outputs": [],
   "source": [
    "\n",
    "    # Weekly Growth Accounting\n",
    "    w_ga = bct.consolidate_all_ga(wau_decorated, 'week', \n",
    "                                     use_segment = use_seg, \n",
    "                                     growth_rate_periods = 12, \n",
    "                                     keep_last_period = False)\n",
    "    bcl.write_to_google_sheet(w_ga, seg + ' Weekly Growth Accounting', GOOGLE_SPREADSHEET_KEY)\n",
    "    \n",
    "    # Weekly Cohorts\n",
    "    wau_cohorts = bct.create_xau_cohort_df(wau_decorated, 'week', use_segment = use_seg)\n",
    "    bcl.write_to_google_sheet(wau_cohorts, seg + ' Weekly Cohorts', GOOGLE_SPREADSHEET_KEY)\n",
    "    \n",
    "    \n",
    "    \n",
    "    ### Calculate Monthly Growth Accounting and Cohort Analysis based on mau_decorated\n",
    "    # MAU Decorated\n",
    "    mau_decorated = bct.create_xau_decorated_df(dau_decorated, 'month', use_segment=use_seg)\n",
    "    \n",
    "    # Monthly Growth Accounting\n",
    "    m_ga = bct.consolidate_all_ga(mau_decorated, 'month', \n",
    "                                     use_segment = use_seg, \n",
    "                                     growth_rate_periods = 12, \n",
    "                                     keep_last_period = False)\n",
    "    tvcl.write_to_google_sheet(m_ga, seg + ' Monthly Growth Accounting', GOOGLE_SPREADSHEET_KEY)\n",
    "    \n",
    "    # Monthly Cohorts\n",
    "    mau_cohorts = bct.create_xau_cohort_df(mau_decorated, 'month', use_segment=use_seg)\n",
    "    bcl.write_to_google_sheet(mau_cohorts, seg + ' Monthly Cohorts', GOOGLE_SPREADSHEET_KEY)\n",
    "    \n",
    "    \n",
    "    \n",
    "    ### Calculate the Rolling 28-Day DAU/MAU ratios\n",
    "    rolling_dau_mau = bct.create_xau_window_df(dau_decorated, \n",
    "                                              time_period = 'day',\n",
    "                                              window_days = 28, \n",
    "                                              breakouts = [2, 4, 8, 12, 16, 20],\n",
    "                                              use_segment = use_seg,\n",
    "                                              use_final_day = False)\n",
    "    bcl.write_to_google_sheet(rolling_dau_mau, seg + ' Rolling DAU/MAU', GOOGLE_SPREADSHEET_KEY)\n",
    "    \n",
    "    \n",
    "    ### Calculate the Rolling 28-Day WAU/MAU ratios\n",
    "    rolling_wau_mau = bct.create_xau_window_df(dau_decorated, \n",
    "                                              time_period = 'week',\n",
    "                                              window_days = 28, \n",
    "                                              breakouts = [2, 3, 4],\n",
    "                                              use_segment = use_seg,\n",
    "                                              use_final_day = False)\n",
    "    bcl.write_to_google_sheet(rolling_wau_mau, seg + ' Rolling WAU/MAU', GOOGLE_SPREADSHEET_KEY)"
   ]
  },
  {
   "cell_type": "code",
   "execution_count": null,
   "id": "925653a0-4a52-4d3f-ac50-106b573656be",
   "metadata": {},
   "outputs": [],
   "source": []
  },
  {
   "cell_type": "code",
   "execution_count": null,
   "id": "b3a02503-5a4d-4e89-b417-9a296f927242",
   "metadata": {},
   "outputs": [],
   "source": []
  },
  {
   "cell_type": "code",
   "execution_count": null,
   "id": "3ff41a83-5920-4f3f-b3c3-d1f7322ff30f",
   "metadata": {},
   "outputs": [],
   "source": []
  },
  {
   "cell_type": "code",
   "execution_count": null,
   "id": "c2bbae70-958b-440c-8060-df587ef44809",
   "metadata": {},
   "outputs": [],
   "source": []
  },
  {
   "cell_type": "code",
   "execution_count": null,
   "id": "53a7a7c9-53f9-40f1-b8a4-bfe141823267",
   "metadata": {},
   "outputs": [],
   "source": []
  },
  {
   "cell_type": "code",
   "execution_count": null,
   "id": "ff9bfb93-8152-4505-88ea-db996b625946",
   "metadata": {},
   "outputs": [],
   "source": []
  },
  {
   "cell_type": "code",
   "execution_count": null,
   "id": "8244f769-e701-44d4-9600-91a71fb4e9f0",
   "metadata": {},
   "outputs": [],
   "source": []
  },
  {
   "cell_type": "code",
   "execution_count": null,
   "id": "416f15a8-a4e4-480c-bbc7-24c876b9b3a4",
   "metadata": {},
   "outputs": [],
   "source": []
  },
  {
   "cell_type": "code",
   "execution_count": null,
   "id": "3f35b997-d2ce-4984-83bf-b98180f8a7d8",
   "metadata": {},
   "outputs": [],
   "source": []
  },
  {
   "cell_type": "code",
   "execution_count": null,
   "id": "1bd90969-1551-49be-8972-727b95371eff",
   "metadata": {},
   "outputs": [],
   "source": []
  },
  {
   "cell_type": "code",
   "execution_count": null,
   "id": "6c0620e4-8532-4d94-a6b2-88f60a615676",
   "metadata": {},
   "outputs": [],
   "source": []
  },
  {
   "cell_type": "code",
   "execution_count": null,
   "id": "29946014-1b22-424c-99bf-9fb122e44ad6",
   "metadata": {},
   "outputs": [],
   "source": []
  },
  {
   "cell_type": "code",
   "execution_count": null,
   "id": "91977395-cf71-43d6-8ec9-43a17d58344c",
   "metadata": {},
   "outputs": [],
   "source": []
  },
  {
   "cell_type": "code",
   "execution_count": null,
   "id": "8d8f4214-1c8b-48cf-bd87-cbfffb79fef2",
   "metadata": {},
   "outputs": [],
   "source": []
  },
  {
   "cell_type": "code",
   "execution_count": null,
   "id": "5933c49f-b6bc-4cb9-b987-1ad85611ddb7",
   "metadata": {},
   "outputs": [],
   "source": []
  },
  {
   "cell_type": "code",
   "execution_count": null,
   "id": "5ffc9b1e-69f5-47a8-bc2a-3d999de76f33",
   "metadata": {},
   "outputs": [],
   "source": []
  },
  {
   "cell_type": "code",
   "execution_count": null,
   "id": "1a172c59-4fa7-42db-9ebe-536d74066032",
   "metadata": {},
   "outputs": [],
   "source": []
  },
  {
   "cell_type": "code",
   "execution_count": null,
   "id": "99d912b4-59d5-417b-b035-25d2cb6fc208",
   "metadata": {},
   "outputs": [],
   "source": []
  },
  {
   "cell_type": "code",
   "execution_count": null,
   "id": "2b99e946-f942-4105-815c-2ec27a4cd2c9",
   "metadata": {},
   "outputs": [],
   "source": []
  },
  {
   "cell_type": "code",
   "execution_count": null,
   "id": "ab39f764-4ab8-4a39-b674-4bea5260a559",
   "metadata": {},
   "outputs": [],
   "source": []
  }
 ],
 "metadata": {
  "kernelspec": {
   "display_name": "Python 3 (ipykernel)",
   "language": "python",
   "name": "python3"
  },
  "language_info": {
   "codemirror_mode": {
    "name": "ipython",
    "version": 3
   },
   "file_extension": ".py",
   "mimetype": "text/x-python",
   "name": "python",
   "nbconvert_exporter": "python",
   "pygments_lexer": "ipython3",
   "version": "3.11.6"
  }
 },
 "nbformat": 4,
 "nbformat_minor": 5
}
