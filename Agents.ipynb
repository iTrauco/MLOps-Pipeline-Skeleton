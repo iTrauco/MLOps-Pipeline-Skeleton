{
 "cells": [
  {
   "cell_type": "code",
   "execution_count": 1,
   "id": "dd8a9f64-a429-4259-aeab-1bd6abde7e2a",
   "metadata": {},
   "outputs": [],
   "source": [
    "# IMPORTS\n",
    "# dfcx-scrapi\n",
    "from dfcx_scrapi.core.intents import Intents\n",
    "from dfcx_scrapi.tools.dataframe_functions import DataframeFunctions\n",
    "\n",
    "# For connectopm to g-sheets\n",
    "import gspread\n",
    "# import google-auth\n",
    "from oauth2client.service_account import ServiceAccountCredentials\n",
    "from df2gspread import df2gspread as d2g\n",
    "\n",
    "# data manipulation\n",
    "import pandas as pd\n",
    "import numpy as np\n",
    "\n",
    "# general python imports\n",
    "import os\n",
    "from contextlib import redirect_stdout\n",
    "import io\n",
    "import sys\n",
    "import subprocess\n",
    "\n",
    "# gcp df cx apiu direct\n",
    "# import google-cloud-dialogflow-cx\n",
    "from google.cloud import dialogflowcx_v3\n",
    "################################################    \n",
    "# G-SHEETS CONNECTION\n",
    "scope = ['https://www.googleapis.com/auth/spreadsheets','https://www.googleapis.com/auth/drive']\n",
    "\n"
   ]
  },
  {
   "cell_type": "code",
   "execution_count": 2,
   "id": "a98acfb0-0d70-452f-86b4-ca30f124f12a",
   "metadata": {},
   "outputs": [],
   "source": [
    "#authorize sa\n",
    "credentials = ServiceAccountCredentials.from_json_keyfile_name('/Users/christophertrauco/.config/secrets/cx_admin_sa.json', scope)\n",
    "client = gspread.authorize(credentials)\n",
    "spreadsheet_key = '18qvh0uWkA0z7S5CC3xTdvD2wkhsmnINjgxUWmuoCo7M'\n",
    "sh = client.open_by_key(spreadsheet_key)\n",
    "################################################\n",
    "# Index Mappings\n",
    "# Parent\n",
    "parent_value = sh.worksheet('Main').acell('C3').value\n",
    "# General\n",
    "project_id = sh.worksheet('Main').acell('B2').value\n",
    "\n",
    "agent_id = sh.worksheet('Main').acell('B13').value\n",
    "\n",
    "display_name = sh.worksheet('Main').acell('B3').value\n",
    "\n",
    "gcp_region = sh.worksheet('Main').acell('B4').value\n",
    "\n",
    "zone = sh.worksheet('Main').acell('B5').value\n",
    "\n",
    "language = sh.worksheet('Main').acell('B6').value\n",
    "\n",
    "default_start_flow = sh.worksheet('Main').acell('B8').value\n",
    "\n",
    "time_zone = sh.worksheet('Main').acell('B7').value\n",
    "\n",
    "creds_path = sh.worksheet('Main').acell('B10').value\n",
    "\n",
    "google_sheet_name = sh.worksheet('Main').acell('B11').value\n",
    "\n",
    "google_sheet_tab_read = sh.worksheet('Main').acell('B12').value\n",
    "\n",
    "flow_pages = sh.worksheet('Main').acell('B17').value\n",
    "################################################\n",
    "# Intent Workbook =Mappings\n",
    "# intents_ss = sh.worksheet('Index').acell('B1').value\n",
    "\n",
    "# intent_ss_output = sh.worksheet('Index').acell('D1').value\n",
    "\n",
    "# intent_ss_analysis = sh.worksheet('Index').acell('F1').value\n",
    "\n",
    "# intents_ss_hx = sh.worksheet('Index').acell('E1').value\n",
    "################################################\n",
    "# ENV VAR \n",
    "os.environ[\"GOOGLE_APPLICATION_CREDENTIALS\"] = creds_path\n",
    "################################################"
   ]
  },
  {
   "cell_type": "markdown",
   "id": "3dc7fb4e-4086-4eec-8e54-db0db9978ab0",
   "metadata": {},
   "source": [
    "# Agent Pages"
   ]
  },
  {
   "cell_type": "code",
   "execution_count": 10,
   "id": "3c7a0577-3e3c-4b35-920d-0513e6733f0b",
   "metadata": {},
   "outputs": [],
   "source": [
    "from google.cloud import dialogflowcx_v3\n",
    "import os\n",
    "import sys"
   ]
  },
  {
   "cell_type": "code",
   "execution_count": 11,
   "id": "0ef1c064-d939-45a5-b8e8-d6a0cdf738e3",
   "metadata": {},
   "outputs": [],
   "source": [
    "parent_project = sh.worksheet('Main').acell('B18').value\n"
   ]
  },
  {
   "cell_type": "code",
   "execution_count": 12,
   "id": "f17af7e6-1c0d-4c71-a7cb-18b6a546a44d",
   "metadata": {},
   "outputs": [],
   "source": [
    "\n",
    "from google.cloud import dialogflowcx_v3\n",
    "class Agents:\n",
    "    \"\"\"\n",
    "    This class establishes Dialogflow CX(DFCX) API programmatic functionality for listing all agents within a specified GCP project...\n",
    "    \n",
    "    \"\"\"\n",
    "    # class scope variables\n",
    "    file = 'agents'\n",
    "    path = '/Users/christophertrauco/skeleton/Data/'\n",
    "\n",
    "    def __init__(self):\n",
    "        self,\n",
    "\n",
    "\n",
    "    def list_agents():\n",
    "        # Create a client\n",
    "        client = dialogflowcx_v3beta1.AgentsClient()\n",
    "    \n",
    "        # Initialize request argument(s)\n",
    "        request = dialogflowcx_v3beta1.ListAgentsRequest(\n",
    "            parent=parent_project,\n",
    "        )\n",
    "    \n",
    "        # Make the request\n",
    "        page_result = client.list_agents(request=request)\n",
    "\n",
    "        sys.stdout = open(f\"{Agents.path}{Agents.file}\", \"wt\")\n",
    "\n",
    "        \n",
    "        # Handle the response\n",
    "        for response in page_result:\n",
    "            print(response)\n",
    "\n",
    "\n",
    "    def clean_data():\n",
    "        from python import clean_file\n",
    "        clean_file.clean_file(f'{Agents.path}{Agents.file}',f'{Agents.path}{Agents.file}.csv')\n",
    "\n",
    "    def create_df():\n",
    "        df = pd.read_csv(f'{Agents.path}{Agents.file}.csv', on_bad_lines='skip')\n",
    "        print(df)\n",
    "        return df\n",
    "\n",
    "        \n"
   ]
  },
  {
   "cell_type": "code",
   "execution_count": 13,
   "id": "f8b1c845-fe6c-4239-9c73-e1a17b32dcda",
   "metadata": {},
   "outputs": [
    {
     "ename": "NameError",
     "evalue": "name 'dialogflowcx_v3beta1' is not defined",
     "output_type": "error",
     "traceback": [
      "\u001b[0;31m---------------------------------------------------------------------------\u001b[0m",
      "\u001b[0;31mNameError\u001b[0m                                 Traceback (most recent call last)",
      "Cell \u001b[0;32mIn[13], line 1\u001b[0m\n\u001b[0;32m----> 1\u001b[0m \u001b[43mAgents\u001b[49m\u001b[38;5;241;43m.\u001b[39;49m\u001b[43mlist_agents\u001b[49m\u001b[43m(\u001b[49m\u001b[43m)\u001b[49m\n",
      "Cell \u001b[0;32mIn[12], line 17\u001b[0m, in \u001b[0;36mAgents.list_agents\u001b[0;34m()\u001b[0m\n\u001b[1;32m     15\u001b[0m \u001b[38;5;28;01mdef\u001b[39;00m \u001b[38;5;21mlist_agents\u001b[39m():\n\u001b[1;32m     16\u001b[0m     \u001b[38;5;66;03m# Create a client\u001b[39;00m\n\u001b[0;32m---> 17\u001b[0m     client \u001b[38;5;241m=\u001b[39m \u001b[43mdialogflowcx_v3beta1\u001b[49m\u001b[38;5;241m.\u001b[39mAgentsClient()\n\u001b[1;32m     19\u001b[0m     \u001b[38;5;66;03m# Initialize request argument(s)\u001b[39;00m\n\u001b[1;32m     20\u001b[0m     request \u001b[38;5;241m=\u001b[39m dialogflowcx_v3beta1\u001b[38;5;241m.\u001b[39mListAgentsRequest(\n\u001b[1;32m     21\u001b[0m         parent\u001b[38;5;241m=\u001b[39mparent_project,\n\u001b[1;32m     22\u001b[0m     )\n",
      "\u001b[0;31mNameError\u001b[0m: name 'dialogflowcx_v3beta1' is not defined"
     ]
    }
   ],
   "source": [
    "Agents.list_agents()"
   ]
  },
  {
   "cell_type": "code",
   "execution_count": null,
   "id": "06a546fe-9852-4af4-90e6-28aabc0a833d",
   "metadata": {},
   "outputs": [],
   "source": [
    "Pages.clean_data()"
   ]
  },
  {
   "cell_type": "code",
   "execution_count": null,
   "id": "a2ce8c4b-9b80-4076-afaa-893db4873088",
   "metadata": {},
   "outputs": [],
   "source": [
    "df = Pages.create_df()"
   ]
  },
  {
   "cell_type": "code",
   "execution_count": null,
   "id": "351acb86-71d0-4415-b61c-32ab96f10fa8",
   "metadata": {},
   "outputs": [],
   "source": [
    "df"
   ]
  },
  {
   "cell_type": "code",
   "execution_count": null,
   "id": "3ecc1c5d-2664-4c5e-b2ed-37d62ad52d97",
   "metadata": {},
   "outputs": [],
   "source": [
    "# \n",
    "# print(flow_pages)"
   ]
  },
  {
   "cell_type": "code",
   "execution_count": null,
   "id": "c4059b9a-221b-41f5-915c-9292f5fa9059",
   "metadata": {},
   "outputs": [],
   "source": [
    "Pages.clean_data()"
   ]
  },
  {
   "cell_type": "code",
   "execution_count": null,
   "id": "d4101358-dfc2-42c0-bd5b-940626be7840",
   "metadata": {},
   "outputs": [],
   "source": [
    "df = Pages.create_df()\n",
    "print(df)"
   ]
  },
  {
   "cell_type": "code",
   "execution_count": null,
   "id": "17d35538-e6ae-4acb-8b3b-a4e5b1e0c260",
   "metadata": {},
   "outputs": [],
   "source": [
    "type(df)"
   ]
  },
  {
   "cell_type": "code",
   "execution_count": null,
   "id": "41d80bf7-6549-4d1a-81f0-7641853c621e",
   "metadata": {},
   "outputs": [],
   "source": [
    "print(df)"
   ]
  },
  {
   "cell_type": "code",
   "execution_count": null,
   "id": "4b86683b-b5d8-44f9-b017-e911aa8002f5",
   "metadata": {},
   "outputs": [],
   "source": [
    "df"
   ]
  },
  {
   "cell_type": "code",
   "execution_count": null,
   "id": "853da2da-89f3-4801-b909-83387d8064b2",
   "metadata": {},
   "outputs": [],
   "source": []
  }
 ],
 "metadata": {
  "kernelspec": {
   "display_name": "Python 3 (ipykernel)",
   "language": "python",
   "name": "python3"
  },
  "language_info": {
   "codemirror_mode": {
    "name": "ipython",
    "version": 3
   },
   "file_extension": ".py",
   "mimetype": "text/x-python",
   "name": "python",
   "nbconvert_exporter": "python",
   "pygments_lexer": "ipython3",
   "version": "3.11.6"
  }
 },
 "nbformat": 4,
 "nbformat_minor": 5
}
