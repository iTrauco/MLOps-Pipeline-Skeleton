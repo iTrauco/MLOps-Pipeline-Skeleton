{
 "cells": [
  {
   "cell_type": "code",
   "execution_count": 1,
   "id": "dd8a9f64-a429-4259-aeab-1bd6abde7e2a",
   "metadata": {},
   "outputs": [],
   "source": [
    "# IMPORTS\n",
    "# dfcx-scrapi\n",
    "from dfcx_scrapi.core.intents import Intents\n",
    "from dfcx_scrapi.tools.dataframe_functions import DataframeFunctions\n",
    "\n",
    "# For connectopm to g-sheets\n",
    "import gspread\n",
    "# import google-auth\n",
    "from oauth2client.service_account import ServiceAccountCredentials\n",
    "from df2gspread import df2gspread as d2g\n",
    "\n",
    "# data manipulation\n",
    "import pandas as pd\n",
    "import numpy as np\n",
    "\n",
    "# general python imports\n",
    "import os\n",
    "from contextlib import redirect_stdout\n",
    "import io\n",
    "import sys\n",
    "import subprocess\n",
    "\n",
    "# gcp df cx apiu direct\n",
    "# import google-cloud-dialogflow-cx\n",
    "from google.cloud import dialogflowcx_v3\n",
    "################################################    \n",
    "# G-SHEETS CONNECTION\n",
    "scope = ['https://www.googleapis.com/auth/spreadsheets','https://www.googleapis.com/auth/drive']\n",
    "\n"
   ]
  },
  {
   "cell_type": "code",
   "execution_count": 2,
   "id": "a98acfb0-0d70-452f-86b4-ca30f124f12a",
   "metadata": {},
   "outputs": [],
   "source": [
    "#authorize sa\n",
    "credentials = ServiceAccountCredentials.from_json_keyfile_name('/Users/christophertrauco/.config/secrets/cx_admin_sa.json', scope)\n",
    "client = gspread.authorize(credentials)\n",
    "spreadsheet_key = '18qvh0uWkA0z7S5CC3xTdvD2wkhsmnINjgxUWmuoCo7M'\n",
    "sh = client.open_by_key(spreadsheet_key)\n",
    "################################################\n",
    "# Index Mappings\n",
    "# Parent\n",
    "parent_value = sh.worksheet('Main').acell('C3').value\n",
    "# General\n",
    "project_id = sh.worksheet('Main').acell('B2').value\n",
    "\n",
    "agent_id = sh.worksheet('Main').acell('B13').value\n",
    "\n",
    "display_name = sh.worksheet('Main').acell('B3').value\n",
    "\n",
    "gcp_region = sh.worksheet('Main').acell('B4').value\n",
    "\n",
    "zone = sh.worksheet('Main').acell('B5').value\n",
    "\n",
    "language = sh.worksheet('Main').acell('B6').value\n",
    "\n",
    "default_start_flow = sh.worksheet('Main').acell('B8').value\n",
    "\n",
    "time_zone = sh.worksheet('Main').acell('B7').value\n",
    "\n",
    "creds_path = sh.worksheet('Main').acell('B10').value\n",
    "\n",
    "google_sheet_name = sh.worksheet('Main').acell('B11').value\n",
    "\n",
    "google_sheet_tab_read = sh.worksheet('Main').acell('B12').value\n",
    "\n",
    "flow_pages = sh.worksheet('Main').acell('B17').value\n",
    "################################################\n",
    "# Intent Workbook =Mappings\n",
    "# intents_ss = sh.worksheet('Index').acell('B1').value\n",
    "\n",
    "# intent_ss_output = sh.worksheet('Index').acell('D1').value\n",
    "\n",
    "# intent_ss_analysis = sh.worksheet('Index').acell('F1').value\n",
    "\n",
    "# intents_ss_hx = sh.worksheet('Index').acell('E1').value\n",
    "################################################\n",
    "# ENV VAR \n",
    "os.environ[\"GOOGLE_APPLICATION_CREDENTIALS\"] = creds_path\n",
    "################################################"
   ]
  },
  {
   "cell_type": "markdown",
   "id": "3dc7fb4e-4086-4eec-8e54-db0db9978ab0",
   "metadata": {},
   "source": [
    "# Agent Pages"
   ]
  },
  {
   "cell_type": "code",
   "execution_count": 3,
   "id": "3c7a0577-3e3c-4b35-920d-0513e6733f0b",
   "metadata": {},
   "outputs": [],
   "source": [
    "from google.cloud import dialogflowcx_v3\n",
    "import os\n",
    "import sys"
   ]
  },
  {
   "cell_type": "code",
   "execution_count": 9,
   "id": "0ef1c064-d939-45a5-b8e8-d6a0cdf738e3",
   "metadata": {},
   "outputs": [],
   "source": [
    "parent_project = sh.worksheet('Main').acell('B18').value\n"
   ]
  },
  {
   "cell_type": "code",
   "execution_count": 10,
   "id": "f17af7e6-1c0d-4c71-a7cb-18b6a546a44d",
   "metadata": {},
   "outputs": [],
   "source": [
    "\n",
    "from google.cloud import dialogflowcx_v3beta1\n",
    "\n",
    "class Agents:\n",
    "    \"\"\"\n",
    "    This class establishes Dialogflow CX(DFCX) API programmatic functionality for listing all agents within a specified GCP project...\n",
    "    \n",
    "    \"\"\"\n",
    "    # class scope variables\n",
    "    file = 'agents'\n",
    "    path = '/Users/christophertrauco/skeleton/Data/'\n",
    "\n",
    "    def __init__(self):\n",
    "        self,\n",
    "\n",
    "\n",
    "    def list_agents():\n",
    "        # Create a client\n",
    "        client = dialogflowcx_v3beta1.AgentsClient()\n",
    "    \n",
    "        # Initialize request argument(s)\n",
    "        request = dialogflowcx_v3beta1.ListAgentsRequest(\n",
    "            parent=parent_project,\n",
    "        )\n",
    "    \n",
    "        # Make the request\n",
    "        page_result = client.list_agents(request=request)\n",
    "\n",
    "        sys.stdout = open(f\"{Agents.path}{Agents.file}\", \"wt\")\n",
    "\n",
    "        \n",
    "        # Handle the response\n",
    "        for response in page_result:\n",
    "            print(response)\n",
    "\n",
    "\n",
    "    def clean_data():\n",
    "        from python import clean_file\n",
    "        clean_file.clean_file(f'{Agents.path}{Agents.file}',f'{Agents.path}{Agents.file}.csv')\n",
    "\n",
    "    def create_df():\n",
    "        df = pd.read_csv(f'{Agents.path}{Agents.file}.csv', on_bad_lines='skip')\n",
    "        print(df)\n",
    "        return df\n",
    "\n",
    "        \n"
   ]
  },
  {
   "cell_type": "code",
   "execution_count": 11,
   "id": "f8b1c845-fe6c-4239-9c73-e1a17b32dcda",
   "metadata": {},
   "outputs": [],
   "source": [
    "Agents.list_agents()"
   ]
  },
  {
   "cell_type": "code",
   "execution_count": 12,
   "id": "06a546fe-9852-4af4-90e6-28aabc0a833d",
   "metadata": {},
   "outputs": [],
   "source": [
    "Agents.clean_data()"
   ]
  },
  {
   "cell_type": "code",
   "execution_count": 13,
   "id": "a2ce8c4b-9b80-4076-afaa-893db4873088",
   "metadata": {},
   "outputs": [],
   "source": [
    "df = Agents.create_df()"
   ]
  },
  {
   "cell_type": "code",
   "execution_count": 14,
   "id": "351acb86-71d0-4415-b61c-32ab96f10fa8",
   "metadata": {},
   "outputs": [
    {
     "data": {
      "text/html": [
       "<div>\n",
       "<style scoped>\n",
       "    .dataframe tbody tr th:only-of-type {\n",
       "        vertical-align: middle;\n",
       "    }\n",
       "\n",
       "    .dataframe tbody tr th {\n",
       "        vertical-align: top;\n",
       "    }\n",
       "\n",
       "    .dataframe thead th {\n",
       "        text-align: right;\n",
       "    }\n",
       "</style>\n",
       "<table border=\"1\" class=\"dataframe\">\n",
       "  <thead>\n",
       "    <tr style=\"text-align: right;\">\n",
       "      <th></th>\n",
       "      <th>name: projects/bot1-404120/locations/global/agents/1f52228b-df94-4727-9207-61405b75906b</th>\n",
       "      <th>Unnamed: 1</th>\n",
       "    </tr>\n",
       "  </thead>\n",
       "  <tbody>\n",
       "    <tr>\n",
       "      <th>0</th>\n",
       "      <td>display_name: agent1</td>\n",
       "      <td>NaN</td>\n",
       "    </tr>\n",
       "    <tr>\n",
       "      <th>1</th>\n",
       "      <td>default_language_code: en</td>\n",
       "      <td>NaN</td>\n",
       "    </tr>\n",
       "    <tr>\n",
       "      <th>2</th>\n",
       "      <td>time_zone: America/Chicago</td>\n",
       "      <td>NaN</td>\n",
       "    </tr>\n",
       "    <tr>\n",
       "      <th>3</th>\n",
       "      <td>start_flow: projects/bot1-404120/locations/glo...</td>\n",
       "      <td>NaN</td>\n",
       "    </tr>\n",
       "    <tr>\n",
       "      <th>4</th>\n",
       "      <td>advanced_settings</td>\n",
       "      <td>NaN</td>\n",
       "    </tr>\n",
       "    <tr>\n",
       "      <th>...</th>\n",
       "      <td>...</td>\n",
       "      <td>...</td>\n",
       "    </tr>\n",
       "    <tr>\n",
       "      <th>92</th>\n",
       "      <td>advanced_settings</td>\n",
       "      <td>NaN</td>\n",
       "    </tr>\n",
       "    <tr>\n",
       "      <th>93</th>\n",
       "      <td>logging_settings</td>\n",
       "      <td>NaN</td>\n",
       "    </tr>\n",
       "    <tr>\n",
       "      <th>94</th>\n",
       "      <td>NaN</td>\n",
       "      <td>NaN</td>\n",
       "    </tr>\n",
       "    <tr>\n",
       "      <th>95</th>\n",
       "      <td>NaN</td>\n",
       "      <td>NaN</td>\n",
       "    </tr>\n",
       "    <tr>\n",
       "      <th>96</th>\n",
       "      <td>NaN</td>\n",
       "      <td>NaN</td>\n",
       "    </tr>\n",
       "  </tbody>\n",
       "</table>\n",
       "<p>97 rows × 2 columns</p>\n",
       "</div>"
      ],
      "text/plain": [
       "   name: projects/bot1-404120/locations/global/agents/1f52228b-df94-4727-9207-61405b75906b  \\\n",
       "0                                display_name: agent1                                        \n",
       "1                           default_language_code: en                                        \n",
       "2                          time_zone: America/Chicago                                        \n",
       "3   start_flow: projects/bot1-404120/locations/glo...                                        \n",
       "4                                   advanced_settings                                        \n",
       "..                                                ...                                        \n",
       "92                                  advanced_settings                                        \n",
       "93                                   logging_settings                                        \n",
       "94                                                NaN                                        \n",
       "95                                                NaN                                        \n",
       "96                                                NaN                                        \n",
       "\n",
       "    Unnamed: 1  \n",
       "0          NaN  \n",
       "1          NaN  \n",
       "2          NaN  \n",
       "3          NaN  \n",
       "4          NaN  \n",
       "..         ...  \n",
       "92         NaN  \n",
       "93         NaN  \n",
       "94         NaN  \n",
       "95         NaN  \n",
       "96         NaN  \n",
       "\n",
       "[97 rows x 2 columns]"
      ]
     },
     "execution_count": 14,
     "metadata": {},
     "output_type": "execute_result"
    }
   ],
   "source": [
    "df"
   ]
  },
  {
   "cell_type": "code",
   "execution_count": null,
   "id": "3ecc1c5d-2664-4c5e-b2ed-37d62ad52d97",
   "metadata": {},
   "outputs": [],
   "source": [
    "# \n",
    "# print(flow_pages)"
   ]
  },
  {
   "cell_type": "code",
   "execution_count": null,
   "id": "c4059b9a-221b-41f5-915c-9292f5fa9059",
   "metadata": {},
   "outputs": [],
   "source": [
    "Pages.clean_data()"
   ]
  },
  {
   "cell_type": "code",
   "execution_count": null,
   "id": "d4101358-dfc2-42c0-bd5b-940626be7840",
   "metadata": {},
   "outputs": [],
   "source": [
    "df = Pages.create_df()\n",
    "print(df)"
   ]
  },
  {
   "cell_type": "code",
   "execution_count": null,
   "id": "17d35538-e6ae-4acb-8b3b-a4e5b1e0c260",
   "metadata": {},
   "outputs": [],
   "source": [
    "type(df)"
   ]
  },
  {
   "cell_type": "code",
   "execution_count": null,
   "id": "41d80bf7-6549-4d1a-81f0-7641853c621e",
   "metadata": {},
   "outputs": [],
   "source": [
    "print(df)"
   ]
  },
  {
   "cell_type": "code",
   "execution_count": null,
   "id": "4b86683b-b5d8-44f9-b017-e911aa8002f5",
   "metadata": {},
   "outputs": [],
   "source": [
    "df"
   ]
  },
  {
   "cell_type": "code",
   "execution_count": null,
   "id": "853da2da-89f3-4801-b909-83387d8064b2",
   "metadata": {},
   "outputs": [],
   "source": []
  }
 ],
 "metadata": {
  "kernelspec": {
   "display_name": "Python 3 (ipykernel)",
   "language": "python",
   "name": "python3"
  },
  "language_info": {
   "codemirror_mode": {
    "name": "ipython",
    "version": 3
   },
   "file_extension": ".py",
   "mimetype": "text/x-python",
   "name": "python",
   "nbconvert_exporter": "python",
   "pygments_lexer": "ipython3",
   "version": "3.11.6"
  }
 },
 "nbformat": 4,
 "nbformat_minor": 5
}
