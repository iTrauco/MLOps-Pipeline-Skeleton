{
 "cells": [
  {
   "cell_type": "markdown",
   "id": "0d81741b-ba05-4c56-885b-ef9ba266ce95",
   "metadata": {},
   "source": [
    "# 1. Imports && DFCX Object Value Attribute Mappings"
   ]
  },
  {
   "cell_type": "code",
   "execution_count": 4,
   "id": "92ddea88-64b6-40f9-bdf7-f76c38c5fc41",
   "metadata": {},
   "outputs": [],
   "source": [
    "from dfcx_scrapi.core.intents import Intents\n",
    "from dfcx_scrapi.tools.dataframe_functions import DataframeFunctions\n",
    "\n",
    "# For connectopm to g-sheets\n",
    "import gspread\n",
    "# import google-auth\n",
    "from oauth2client.service_account import ServiceAccountCredentials\n",
    "from df2gspread import df2gspread as d2g\n",
    "\n",
    "# data manipulation\n",
    "import pandas as pd\n",
    "import numpy as np\n",
    "\n",
    "# general python imports\n",
    "import os\n",
    "from contextlib import redirect_stdout\n",
    "import io\n",
    "import sys\n",
    "\n",
    "# gcp df cx apiu direct\n",
    "# import google-cloud-dialogflow-cx\n",
    "from google.cloud import dialogflowcx_v3\n",
    "################################################\n",
    "# G-SHEETS CONNECTION\n",
    "scope = ['https://www.googleapis.com/auth/spreadsheets','https://www.googleapis.com/auth/drive']\n",
    "\n",
    "\n",
    "#authorize sa\n",
    "credentials = ServiceAccountCredentials.from_json_keyfile_name('/Users/christophertrauco/.config/secrets/cx_admin_sa.json', scope)\n",
    "client = gspread.authorize(credentials)\n",
    "spreadsheet_key = '18qvh0uWkA0z7S5CC3xTdvD2wkhsmnINjgxUWmuoCo7M'\n",
    "sh = client.open_by_key(spreadsheet_key)\n",
    "################################################\n",
    "# Index Mappings\n",
    "# Parent\n",
    "parent_value = sh.worksheet('Main').acell('C3').value\n",
    "# General\n",
    "project_id = sh.worksheet('Main').acell('B2').value\n",
    "\n",
    "agent_id = sh.worksheet('Main').acell('B13').value\n",
    "\n",
    "display_name = sh.worksheet('Main').acell('B3').value\n",
    "\n",
    "gcp_region = sh.worksheet('Main').acell('B4').value\n",
    "\n",
    "zone = sh.worksheet('Main').acell('B5').value\n",
    "\n",
    "language = sh.worksheet('Main').acell('B6').value\n",
    "\n",
    "default_start_flow = sh.worksheet('Main').acell('B8').value\n",
    "\n",
    "time_zone = sh.worksheet('Main').acell('B7').value\n",
    "\n",
    "creds_path = sh.worksheet('Main').acell('B10').value\n",
    "\n",
    "google_sheet_name = sh.worksheet('Main').acell('B11').value\n",
    "\n",
    "google_sheet_tab_read = sh.worksheet('Main').acell('B12').value\n",
    "################################################\n",
    "# Intent Workbook =Mappings\n",
    "intents_ss = sh.worksheet('Index').acell('B1').value\n",
    "\n",
    "intent_ss_output = sh.worksheet('Index').acell('D1').value\n",
    "\n",
    "intent_ss_analysis = sh.worksheet('Index').acell('F1').value\n",
    "\n",
    "intents_ss_hx = sh.worksheet('Index').acell('E1').value\n",
    "################################################\n",
    "# ENV VAR \n",
    "os.environ[\"GOOGLE_APPLICATION_CREDENTIALS\"] = creds_path\n",
    "################################################\n",
    "################################################\n",
    "################################################\n",
    "# List and create intents dataframe"
   ]
  },
  {
   "cell_type": "code",
   "execution_count": 5,
   "id": "7fcd03ba-7b46-4ea3-8eb2-78b9235d8d5b",
   "metadata": {},
   "outputs": [
    {
     "name": "stdout",
     "output_type": "stream",
     "text": [
      " America/Chicago\n"
     ]
    }
   ],
   "source": [
    "print(time_zone)\n"
   ]
  },
  {
   "cell_type": "code",
   "execution_count": 6,
   "id": "c3815610-6e6e-4c76-bd66-2b9e0e10a1de",
   "metadata": {},
   "outputs": [],
   "source": [
    "import sys\n",
    "import os\n",
    "import subprocess"
   ]
  },
  {
   "cell_type": "code",
   "execution_count": 13,
   "id": "89c71f6c-c90f-4b82-b91a-91e4128155de",
   "metadata": {},
   "outputs": [
    {
     "ename": "ModuleNotFoundError",
     "evalue": "No module named 'ETL'",
     "output_type": "error",
     "traceback": [
      "\u001b[0;31m---------------------------------------------------------------------------\u001b[0m",
      "\u001b[0;31mModuleNotFoundError\u001b[0m                       Traceback (most recent call last)",
      "Cell \u001b[0;32mIn[13], line 1\u001b[0m\n\u001b[0;32m----> 1\u001b[0m \u001b[38;5;28;01mimport\u001b[39;00m \u001b[38;5;21;01mETL\u001b[39;00m\n",
      "\u001b[0;31mModuleNotFoundError\u001b[0m: No module named 'ETL'"
     ]
    }
   ],
   "source": [
    "import ETL"
   ]
  },
  {
   "cell_type": "code",
   "execution_count": 14,
   "id": "120c5ece-8388-41a1-af7a-c7d764d0a9a9",
   "metadata": {},
   "outputs": [],
   "source": [
    "class EntityTypes:\n",
    "    \"\"\"\n",
    "    This class establishes Dialogflow CX(DFCX) API programmatic functionality for DFCX agent entity types and their value mappings. \n",
    "    \"\"\"\n",
    "\n",
    "    # class scope variables\n",
    "    file = 'entityTypes'\n",
    "    path = '/Users/christophertrauco/skeleton/Data/'\n",
    "\n",
    "    def __init__(self):\n",
    "        self,\n",
    "    \n",
    "    def list_entity_types():\n",
    "        entity_types_list = []\n",
    "        # Create a client\n",
    "        client = dialogflowcx_v3.EntityTypesClient()\n",
    "    \n",
    "        # Initialize request argument(s)\n",
    "        request = dialogflowcx_v3.ListEntityTypesRequest(\n",
    "            parent=parent_value,\n",
    "        )\n",
    "    \n",
    "        # Make the request\n",
    "        page_result = client.list_entity_types(request=request)\n",
    "\n",
    "        # create local file for writing entityTypes as stdout\n",
    "        # if file exists it will be overwritten\n",
    "        # if file doesn't exist it will be create and written to via stdout\n",
    "        sys.stdout = open(f\"{EntityTypes.path}{EntityTypes.file}\", \"wt\")\n",
    "        \n",
    "        # Handle the response\n",
    "        # prints to locally created file for etl into csv for output into g-sheets playbooks\n",
    "        for response in page_result:\n",
    "            print(response)\n",
    "        # close_file = sys.stdout.close()\n",
    "        # close_file\n",
    "\n",
    "    def clean_data():\n",
    "        import ETL\n",
    "        ETL.clean_file(f'{EntityTypes.path}{EntityTypes.file}',f'{EntityTypes.path}{EntityTypes.file}.csv')\n",
    "        # file = 'entityTypes'\n",
    "        # path = '../Data/'\n",
    "        # os.system(f\"python3 script.py {path}{file} {path}{file}.csv\")\n",
    "        \n",
    "        # subprocess.run([f\"cat {EntityTypes.path}{EntityTypes.file} | tr -d '\\\"' | tr -d '{{' |  tr -d '}}' | awk '{{ if($0 !~ /^[[:space:]]*$/) print $0 }}' | sed 's/^ *//g'  > {EntityTypes.path}{EntityTypes.file}.csv\"] ,shell=True) \n",
    "    \n",
    "    def create_df():\n",
    "        df = pd.read_csv(f'{EntityTypes.path}{EntityTypes.file}.csv', on_bad_lines='skip')\n",
    "        print(df)\n",
    "        return df"
   ]
  },
  {
   "cell_type": "code",
   "execution_count": 15,
   "id": "af9d6316-e654-421e-98b0-6d4b6e1ac857",
   "metadata": {},
   "outputs": [],
   "source": [
    "EntityTypes.list_entity_types()"
   ]
  },
  {
   "cell_type": "code",
   "execution_count": 16,
   "id": "a3869209",
   "metadata": {},
   "outputs": [
    {
     "ename": "NameError",
     "evalue": "name 'ETL' is not defined",
     "output_type": "error",
     "traceback": [
      "\u001b[0;31m---------------------------------------------------------------------------\u001b[0m",
      "\u001b[0;31mNameError\u001b[0m                                 Traceback (most recent call last)",
      "Cell \u001b[0;32mIn[16], line 1\u001b[0m\n\u001b[0;32m----> 1\u001b[0m \u001b[43mEntityTypes\u001b[49m\u001b[38;5;241;43m.\u001b[39;49m\u001b[43mclean_data\u001b[49m\u001b[43m(\u001b[49m\u001b[43m)\u001b[49m\n",
      "Cell \u001b[0;32mIn[14], line 39\u001b[0m, in \u001b[0;36mEntityTypes.clean_data\u001b[0;34m()\u001b[0m\n\u001b[1;32m     38\u001b[0m \u001b[38;5;28;01mdef\u001b[39;00m \u001b[38;5;21mclean_data\u001b[39m():\n\u001b[0;32m---> 39\u001b[0m     \u001b[43mETL\u001b[49m\u001b[38;5;241m.\u001b[39mclean_file(\u001b[38;5;124mf\u001b[39m\u001b[38;5;124m'\u001b[39m\u001b[38;5;132;01m{\u001b[39;00mEntityTypes\u001b[38;5;241m.\u001b[39mpath\u001b[38;5;132;01m}\u001b[39;00m\u001b[38;5;132;01m{\u001b[39;00mEntityTypes\u001b[38;5;241m.\u001b[39mfile\u001b[38;5;132;01m}\u001b[39;00m\u001b[38;5;124m'\u001b[39m,\u001b[38;5;124mf\u001b[39m\u001b[38;5;124m'\u001b[39m\u001b[38;5;132;01m{\u001b[39;00mEntityTypes\u001b[38;5;241m.\u001b[39mpath\u001b[38;5;132;01m}\u001b[39;00m\u001b[38;5;132;01m{\u001b[39;00mEntityTypes\u001b[38;5;241m.\u001b[39mfile\u001b[38;5;132;01m}\u001b[39;00m\u001b[38;5;124m.csv\u001b[39m\u001b[38;5;124m'\u001b[39m)\n",
      "\u001b[0;31mNameError\u001b[0m: name 'ETL' is not defined"
     ]
    }
   ],
   "source": [
    "EntityTypes.clean_data()"
   ]
  },
  {
   "cell_type": "code",
   "execution_count": 9,
   "id": "42ff0366-eeb4-4d38-a5b7-f1b7b07847ad",
   "metadata": {},
   "outputs": [
    {
     "name": "stdout",
     "output_type": "stream",
     "text": [
      "   name: projects/bot1-404120/locations/global/agents/79c5a35e-32a9-403b-ad36-d24f4f7d5d67/entityTypes/03f8408c-5903-4d5b-b26f-80aa086b4244\n",
      "0                                 display_name: Album                                                                                      \n",
      "1                                      kind: KIND_MAP                                                                                      \n",
      "2                                            entities                                                                                      \n",
      "3                                         value: Live                                                                                      \n",
      "4                                      synonyms: Live                                                                                      \n",
      "..                                                ...                                                                                      \n",
      "77                                      value: Artist                                                                                      \n",
      "78                                synonyms: musicians                                                                                      \n",
      "79                                    synonyms: bands                                                                                      \n",
      "80                                  synonyms: singers                                                                                      \n",
      "81                                   synonyms: groups                                                                                      \n",
      "\n",
      "[82 rows x 1 columns]\n"
     ]
    },
    {
     "data": {
      "text/html": [
       "<div>\n",
       "<style scoped>\n",
       "    .dataframe tbody tr th:only-of-type {\n",
       "        vertical-align: middle;\n",
       "    }\n",
       "\n",
       "    .dataframe tbody tr th {\n",
       "        vertical-align: top;\n",
       "    }\n",
       "\n",
       "    .dataframe thead th {\n",
       "        text-align: right;\n",
       "    }\n",
       "</style>\n",
       "<table border=\"1\" class=\"dataframe\">\n",
       "  <thead>\n",
       "    <tr style=\"text-align: right;\">\n",
       "      <th></th>\n",
       "      <th>name: projects/bot1-404120/locations/global/agents/79c5a35e-32a9-403b-ad36-d24f4f7d5d67/entityTypes/03f8408c-5903-4d5b-b26f-80aa086b4244</th>\n",
       "    </tr>\n",
       "  </thead>\n",
       "  <tbody>\n",
       "    <tr>\n",
       "      <th>0</th>\n",
       "      <td>display_name: Album</td>\n",
       "    </tr>\n",
       "    <tr>\n",
       "      <th>1</th>\n",
       "      <td>kind: KIND_MAP</td>\n",
       "    </tr>\n",
       "    <tr>\n",
       "      <th>2</th>\n",
       "      <td>entities</td>\n",
       "    </tr>\n",
       "    <tr>\n",
       "      <th>3</th>\n",
       "      <td>value: Live</td>\n",
       "    </tr>\n",
       "    <tr>\n",
       "      <th>4</th>\n",
       "      <td>synonyms: Live</td>\n",
       "    </tr>\n",
       "    <tr>\n",
       "      <th>...</th>\n",
       "      <td>...</td>\n",
       "    </tr>\n",
       "    <tr>\n",
       "      <th>77</th>\n",
       "      <td>value: Artist</td>\n",
       "    </tr>\n",
       "    <tr>\n",
       "      <th>78</th>\n",
       "      <td>synonyms: musicians</td>\n",
       "    </tr>\n",
       "    <tr>\n",
       "      <th>79</th>\n",
       "      <td>synonyms: bands</td>\n",
       "    </tr>\n",
       "    <tr>\n",
       "      <th>80</th>\n",
       "      <td>synonyms: singers</td>\n",
       "    </tr>\n",
       "    <tr>\n",
       "      <th>81</th>\n",
       "      <td>synonyms: groups</td>\n",
       "    </tr>\n",
       "  </tbody>\n",
       "</table>\n",
       "<p>82 rows × 1 columns</p>\n",
       "</div>"
      ],
      "text/plain": [
       "   name: projects/bot1-404120/locations/global/agents/79c5a35e-32a9-403b-ad36-d24f4f7d5d67/entityTypes/03f8408c-5903-4d5b-b26f-80aa086b4244\n",
       "0                                 display_name: Album                                                                                      \n",
       "1                                      kind: KIND_MAP                                                                                      \n",
       "2                                            entities                                                                                      \n",
       "3                                         value: Live                                                                                      \n",
       "4                                      synonyms: Live                                                                                      \n",
       "..                                                ...                                                                                      \n",
       "77                                      value: Artist                                                                                      \n",
       "78                                synonyms: musicians                                                                                      \n",
       "79                                    synonyms: bands                                                                                      \n",
       "80                                  synonyms: singers                                                                                      \n",
       "81                                   synonyms: groups                                                                                      \n",
       "\n",
       "[82 rows x 1 columns]"
      ]
     },
     "execution_count": 9,
     "metadata": {},
     "output_type": "execute_result"
    }
   ],
   "source": [
    "EntityTypes.create_df()"
   ]
  },
  {
   "cell_type": "code",
   "execution_count": null,
   "id": "69604002-d1d9-4bf5-a2fc-69f580018dc0",
   "metadata": {},
   "outputs": [],
   "source": []
  },
  {
   "cell_type": "code",
   "execution_count": null,
   "id": "6c604149-9640-4dbb-81e1-7d8bf11dcf5b",
   "metadata": {},
   "outputs": [],
   "source": []
  }
 ],
 "metadata": {
  "kernelspec": {
   "display_name": "local-venv-kernel",
   "language": "python",
   "name": "local-venv-kernel"
  },
  "language_info": {
   "codemirror_mode": {
    "name": "ipython",
    "version": 3
   },
   "file_extension": ".py",
   "mimetype": "text/x-python",
   "name": "python",
   "nbconvert_exporter": "python",
   "pygments_lexer": "ipython3",
   "version": "3.11.6"
  }
 },
 "nbformat": 4,
 "nbformat_minor": 5
}
