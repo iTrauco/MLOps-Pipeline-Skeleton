{
 "cells": [
  {
   "cell_type": "markdown",
   "id": "0d81741b-ba05-4c56-885b-ef9ba266ce95",
   "metadata": {},
   "source": [
    "# 1. Imports && DFCX Object Value Attribute Mappings"
   ]
  },
  {
   "cell_type": "code",
   "execution_count": 1,
   "id": "92ddea88-64b6-40f9-bdf7-f76c38c5fc41",
   "metadata": {},
   "outputs": [],
   "source": [
    "from dfcx_scrapi.core.intents import Intents\n",
    "from dfcx_scrapi.tools.dataframe_functions import DataframeFunctions\n",
    "\n",
    "# For connectopm to g-sheets\n",
    "import gspread\n",
    "# import google-auth\n",
    "from oauth2client.service_account import ServiceAccountCredentials\n",
    "from df2gspread import df2gspread as d2g\n",
    "\n",
    "# data manipulation\n",
    "import pandas as pd\n",
    "import numpy as np\n",
    "\n",
    "# general python imports\n",
    "import os\n",
    "from contextlib import redirect_stdout\n",
    "import io\n",
    "import sys\n",
    "\n",
    "# gcp df cx apiu direct\n",
    "# import google-cloud-dialogflow-cx\n",
    "from google.cloud import dialogflowcx_v3\n",
    "################################################\n",
    "# G-SHEETS CONNECTION\n",
    "scope = ['https://www.googleapis.com/auth/spreadsheets','https://www.googleapis.com/auth/drive']\n",
    "\n",
    "\n",
    "#authorize sa\n",
    "credentials = ServiceAccountCredentials.from_json_keyfile_name('/Users/christophertrauco/.config/secrets/cx_admin_sa.json', scope)\n",
    "client = gspread.authorize(credentials)\n",
    "spreadsheet_key = '18qvh0uWkA0z7S5CC3xTdvD2wkhsmnINjgxUWmuoCo7M'\n",
    "sh = client.open_by_key(spreadsheet_key)\n",
    "################################################\n",
    "# Index Mappings\n",
    "# Parent\n",
    "parent_value = sh.worksheet('Main').acell('C3').value\n",
    "# General\n",
    "project_id = sh.worksheet('Main').acell('B2').value\n",
    "\n",
    "agent_id = sh.worksheet('Main').acell('B13').value\n",
    "\n",
    "display_name = sh.worksheet('Main').acell('B3').value\n",
    "\n",
    "gcp_region = sh.worksheet('Main').acell('B4').value\n",
    "\n",
    "zone = sh.worksheet('Main').acell('B5').value\n",
    "\n",
    "language = sh.worksheet('Main').acell('B6').value\n",
    "\n",
    "default_start_flow = sh.worksheet('Main').acell('B8').value\n",
    "\n",
    "time_zone = sh.worksheet('Main').acell('B7').value\n",
    "\n",
    "creds_path = sh.worksheet('Main').acell('B10').value\n",
    "\n",
    "google_sheet_name = sh.worksheet('Main').acell('B11').value\n",
    "\n",
    "google_sheet_tab_read = sh.worksheet('Main').acell('B12').value\n",
    "################################################\n",
    "# Intent Workbook =Mappings\n",
    "intents_ss = sh.worksheet('Index').acell('B1').value\n",
    "\n",
    "intent_ss_output = sh.worksheet('Index').acell('D1').value\n",
    "\n",
    "intent_ss_analysis = sh.worksheet('Index').acell('F1').value\n",
    "\n",
    "intents_ss_hx = sh.worksheet('Index').acell('E1').value\n",
    "################################################\n",
    "# ENV VAR \n",
    "os.environ[\"GOOGLE_APPLICATION_CREDENTIALS\"] = creds_path\n",
    "################################################\n",
    "################################################\n",
    "################################################\n",
    "# List and create intents dataframe"
   ]
  },
  {
   "cell_type": "code",
   "execution_count": 2,
   "id": "7fcd03ba-7b46-4ea3-8eb2-78b9235d8d5b",
   "metadata": {},
   "outputs": [
    {
     "name": "stdout",
     "output_type": "stream",
     "text": [
      " America/Chicago\n"
     ]
    }
   ],
   "source": [
    "print(time_zone)\n"
   ]
  },
  {
   "cell_type": "code",
   "execution_count": 3,
   "id": "c3815610-6e6e-4c76-bd66-2b9e0e10a1de",
   "metadata": {},
   "outputs": [],
   "source": [
    "import sys\n",
    "import os\n",
    "import subprocess"
   ]
  },
  {
   "cell_type": "code",
   "execution_count": 8,
   "id": "120c5ece-8388-41a1-af7a-c7d764d0a9a9",
   "metadata": {},
   "outputs": [],
   "source": [
    "class EntityTypes:\n",
    "    \"\"\"\n",
    "    This class establishes Dialogflow CX(DFCX) API programmatic functionality for DFCX agent entity types and their value mappings. \n",
    "    \"\"\"\n",
    "\n",
    "    # class scope variables\n",
    "    file = 'entityTypes'\n",
    "    path = '/Users/christophertrauco/skeleton/Data/'\n",
    "\n",
    "    def __init__(self):\n",
    "        self,\n",
    "    \n",
    "    def list_entity_types():\n",
    "        entity_types_list = []\n",
    "        # Create a client\n",
    "        client = dialogflowcx_v3.EntityTypesClient()\n",
    "    \n",
    "        # Initialize request argument(s)\n",
    "        request = dialogflowcx_v3.ListEntityTypesRequest(\n",
    "            parent=parent_value,\n",
    "        )\n",
    "    \n",
    "        # Make the request\n",
    "        page_result = client.list_entity_types(request=request)\n",
    "\n",
    "        # create local file for writing entityTypes as stdout\n",
    "        # if file exists it will be overwritten\n",
    "        # if file doesn't exist it will be create and written to via stdout\n",
    "        sys.stdout = open(f\"{EntityTypes.path}{EntityTypes.file}\", \"wt\")\n",
    "        \n",
    "        # Handle the response\n",
    "        # prints to locally created file for etl into csv for output into g-sheets playbooks\n",
    "        for response in page_result:\n",
    "            print(response)\n",
    "        # close_file = sys.stdout.close()\n",
    "        # close_file\n",
    "\n",
    "    def etl():\n",
    "        subprocess.run([f\"cat {EntityTypes.path}{EntityTypes.file} | tr -d '\\\"' | tr -d '{{' |  tr -d '}}' | awk '{{ if($0 !~ /^[[:space:]]*$/) print $0 }}' | sed 's/^ *//g'  > {EntityTypes.path}{EntityTypes.file}.csv\"] ,shell=True) \n",
    "    \n",
    "    def create_df():\n",
    "        df = pd.read_csv(f'{EntityTypes.path}{EntityTypes.file}', on_bad_lines='skip')\n",
    "        print(df)\n",
    "        return df"
   ]
  },
  {
   "cell_type": "code",
   "execution_count": null,
   "id": "7722efa7",
   "metadata": {},
   "outputs": [],
   "source": [
    "EntityTypes.list_entity_typedds()\n"
   ]
  },
  {
   "cell_type": "code",
   "execution_count": 6,
   "id": "69a91e7d-6140-4d0c-acbe-0d5be7d28074",
   "metadata": {},
   "outputs": [],
   "source": [
    "EntityTypes.etl()"
   ]
  },
  {
   "cell_type": "code",
   "execution_count": null,
   "id": "c188033d-fdc2-4a4b-a225-3381b3bdb832",
   "metadata": {},
   "outputs": [],
   "source": [
    "import sys\n",
    "import os"
   ]
  },
  {
   "cell_type": "code",
   "execution_count": null,
   "id": "a0b7c696-629a-4e4c-bfc5-bbdd70b913e8",
   "metadata": {},
   "outputs": [],
   "source": [
    "def create_df():        \n",
    "# intents to stdout f named intents\n",
    "    sys.stdout = open(\"/Users/christophertrauco/skeleton/Data/entityTypes\", \"wt\")\n",
    "\n",
    "    # print objects\n",
    "    print(EntityTypes.list_entity_types())  \n",
    "\n",
    "    # etl for output into g-sheets\n",
    "\n",
    "    df = pd.read_csv('/Users/christophertrauco/skeleton/Data/entityTypes.csv', on_bad_lines='skip')\n",
    "        \n",
    "    return df"
   ]
  },
  {
   "cell_type": "code",
   "execution_count": null,
   "id": "abf63239-1b1b-48e9-bbdb-e5c72efededb",
   "metadata": {},
   "outputs": [],
   "source": [
    "create_df()"
   ]
  },
  {
   "cell_type": "code",
   "execution_count": null,
   "id": "d58f7c59-7a22-4340-b157-35820495b3f8",
   "metadata": {},
   "outputs": [],
   "source": []
  }
 ],
 "metadata": {
  "kernelspec": {
   "display_name": "local-venv-kernel",
   "language": "python",
   "name": "local-venv-kernel"
  },
  "language_info": {
   "codemirror_mode": {
    "name": "ipython",
    "version": 3
   },
   "file_extension": ".py",
   "mimetype": "text/x-python",
   "name": "python",
   "nbconvert_exporter": "python",
   "pygments_lexer": "ipython3",
   "version": "3.11.6"
  }
 },
 "nbformat": 4,
 "nbformat_minor": 5
}
