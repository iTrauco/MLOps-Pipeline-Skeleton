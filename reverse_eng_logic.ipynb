{
 "cells": [
  {
   "cell_type": "markdown",
   "id": "7313fb49-e7b4-4c0a-9a71-4a525beee140",
   "metadata": {},
   "source": [
    "### convert config.ini to config.yaml"
   ]
  },
  {
   "cell_type": "code",
   "execution_count": 24,
   "id": "d9a08027-f989-41ec-b3a3-a76488c623cb",
   "metadata": {},
   "outputs": [],
   "source": [
    "%load_ext autoreload\n",
    "%autoreload 2\n"
   ]
  },
  {
   "cell_type": "code",
   "execution_count": 25,
   "id": "62cd1d33-7b02-42bf-a59f-85f42929dcf3",
   "metadata": {},
   "outputs": [],
   "source": [
    "!ipython kernel install --name \"local-venv-kernel\" --user"
   ]
  },
  {
   "cell_type": "code",
   "execution_count": 26,
   "id": "df6b7c9f-4b2d-4ad1-be49-946b078016c7",
   "metadata": {},
   "outputs": [],
   "source": [
    "import configparser\n",
    "import yaml\n",
    "import os"
   ]
  },
  {
   "cell_type": "code",
   "execution_count": 27,
   "id": "3695237b-b2a5-462b-88df-ab6037aeac77",
   "metadata": {},
   "outputs": [],
   "source": [
    "# #list the current work dir\n",
    "# os.getcwd()\n",
    "# #change the current work dir\n",
    "# os.chdir()"
   ]
  },
  {
   "cell_type": "raw",
   "id": "d604d69b-47c1-419b-8448-973041cbbf9c",
   "metadata": {},
   "source": [
    "\n",
    "config_object = configparser.ConfigParser()\n",
    "file =open(\"/Users/christophertrauco/skeleton/python/config.ini\",\"r\")\n",
    "yaml_file =open(\"config.yaml\",\"w\")\n",
    "config_object.read_file(file)\n",
    "output_dict=dict()\n",
    "sections=config_object.sections()R\n",
    "for section in sections:\n",
    "    items=config_object.items(section)\n",
    "    output_dict[section]=dict(items)\n",
    "yaml.dump(output_dict,yaml_file)\n",
    "yaml_file.close()\n",
    "file.close()"
   ]
  },
  {
   "cell_type": "code",
   "execution_count": null,
   "id": "679d3ce5-4424-4426-88d1-eaa6493d6a91",
   "metadata": {},
   "outputs": [],
   "source": []
  },
  {
   "cell_type": "raw",
   "id": "f47e10d4-9a7d-4cb5-8887-bde5d1de142c",
   "metadata": {},
   "source": [
    "# -*- coding: utf-8 -*-\n",
    "\n",
    "# skeleton is for the logic of the data flows, coiabs is not important at this time\n",
    "# from google.colab import auth\n",
    "from oauth2client.client import GoogleCredentials\n",
    "import gspread\n",
    "from gspread_dataframe import set_with_dataframe\n",
    "\n",
    "\n",
    "\n",
    "def google_authenticate():\n",
    "    auth.authenticate_user()\n",
    "    gc = gspread.authorize(GoogleCredentials.get_application_default())\n",
    "    return gc\n",
    "\n",
    "\n",
    "\n",
    "def write_to_google_sheet(dataframe, spreadsheet_key, worksheet_name, goog_creds):\n",
    "    sh = goog_creds.open_by_key(spreadsheet_key)\n",
    "    ws = None\n",
    "    worksheet_list = sh.worksheets()\n",
    "    for worksheet in worksheet_list:\n",
    "        if worksheet.title == worksheet_name:\n",
    "            ws = worksheet\n",
    "            \n",
    "    if ws is None:\n",
    "        ws = sh.add_worksheet(title = worksheet_name, rows=\"1\", cols = \"1\")\n",
    "\n",
    "    set_with_dataframe(ws, dataframe, row=1, col=1, include_index=False, \n",
    "                       include_column_header=True, resize=True, \n",
    "                       allow_formulas=True)"
   ]
  },
  {
   "cell_type": "code",
   "execution_count": 28,
   "id": "ebfe3b59-cf3e-49f4-b7dd-d5c0aa63cd65",
   "metadata": {},
   "outputs": [],
   "source": [
    "# -*- coding: utf-8 -*-\n",
    "\n",
    "import gspread\n",
    "from gspread_dataframe import set_with_dataframe\n",
    "from oauth2client.service_account import ServiceAccountCredentials\n",
    "\n",
    "SCOPES = ['https://www.googleapis.com/auth/spreadsheets'] \n",
    "\n",
    "# class TVCLoad:\n",
    "#     def __init__(self, credentials_file):\n",
    "#         self.gc = self.init_gsheets_client(credentials_file, SCOPES)\n",
    "\n",
    "class BCLoad:\n",
    "    def __init__(self, credentials_file):\n",
    "        self.gc = self.init_gsheets_client(credentials_file, SCOPES)\n",
    "\n",
    "\n",
    "    def init_gsheets_client(self, credentials_file, scopes,  **kwargs):\n",
    "        creds = ServiceAccountCredentials.from_json_keyfile_name(credentials_file, \n",
    "                                                                 scopes)\n",
    "        client = gspread.authorize(creds)\n",
    "        \n",
    "        return client\n",
    "\n",
    "    \n",
    "    \n",
    "    def write_to_google_sheet(self, dataframe, worksheet_name, spreadsheet_key):\n",
    "      \n",
    "      sh = self.gc.open_by_key(spreadsheet_key)\n",
    "      \n",
    "      ws = None\n",
    "      worksheet_list = sh.worksheets()\n",
    "      for worksheet in worksheet_list:\n",
    "        if worksheet.title == worksheet_name:\n",
    "          ws = worksheet\n",
    "      if ws is None:\n",
    "        ws = sh.add_worksheet(title = worksheet_name, rows=\"1\", cols = \"1\")\n",
    "        \n",
    "      set_with_dataframe(ws, dataframe, row=1, col=1, include_index=False, \n",
    "                         include_column_header=True, resize=True, allow_formulas=True)    \n",
    "    \n",
    "\n",
    "    "
   ]
  },
  {
   "cell_type": "markdown",
   "id": "13efe078-d7ae-4c35-926b-c840d72370e0",
   "metadata": {},
   "source": [
    "# PIPELINE LOGIC"
   ]
  },
  {
   "cell_type": "code",
   "execution_count": 29,
   "id": "932690e0-2c75-4ea4-bb74-403efaf134f2",
   "metadata": {},
   "outputs": [],
   "source": [
    "# -*- coding: utf-8 -*-\n",
    "\n",
    "### Import Relevant Libraries\n",
    "import os"
   ]
  },
  {
   "cell_type": "markdown",
   "id": "4c9f1a42-5187-434c-bde8-eca517877bb0",
   "metadata": {},
   "source": [
    "# \n",
    "⬇️ RETURN TO THIS AFTER THE DATA FLOW LOGIC CONFIRMED ⬇️"
   ]
  },
  {
   "cell_type": "code",
   "execution_count": 30,
   "id": "a81d870d-e546-4d74-8483-c8eb82b7b2b0",
   "metadata": {},
   "outputs": [],
   "source": [
    "\n",
    "# PYTHON_FOLDER = os.environ['PYTHON_FOLDER']  # Requires an environment variable to be preset\n",
    "# os.chdir(PYTHON_FOLDER)\n"
   ]
  },
  {
   "cell_type": "markdown",
   "id": "cac4fad4-c78b-43d2-9556-e19aa87a069d",
   "metadata": {},
   "source": [
    "# ⬆️  RETURN TO THIS AFTER THE DATA FLOW LOGIC CONFIRMED ⬆️ "
   ]
  },
  {
   "cell_type": "code",
   "execution_count": 31,
   "id": "e02b4cfb-09ad-4633-90b0-795c1b831807",
   "metadata": {},
   "outputs": [],
   "source": [
    "import pandas as pd\n",
    "import configparser\n",
    "\n",
    "import sys\n",
    "\n",
    "\n",
    "from python import bc_transform as bct\n",
    "# from python import bc_transform as bct\n",
    "from python import bc_load_service_account as bcload\n",
    "\n",
    "### Set up Python output to show every dataframe column\n",
    "pd.set_option('display.max_columns', 500)\n"
   ]
  },
  {
   "cell_type": "code",
   "execution_count": 32,
   "id": "808965ee-888b-4a72-a154-0cc423c6e83b",
   "metadata": {},
   "outputs": [],
   "source": [
    "\n",
    "\n",
    "\n",
    "### Set variables by reading from the config.ini file\n",
    "company_name = 'ServBiz'\n",
    "# config = configparser.ConfigParser()\n",
    "# config.read('config.yaml')\n",
    "\n",
    "#GOOGLE_CREDENTIALS_FILE = config[company_name]['GOOGLE_CREDENTIALS_FILE']\n",
    "GOOGLE_CREDENTIALS_FILE = 'credentials.json'\n",
    "\n",
    "# GOOGLE_SPREADSHEET_KEY = config[company_name]['GOOGLE_SPREADSHEET_KEY']\n",
    "GOOGLE_SPREADSHEET_KEY = '1ETXNPRMjKcsbIdKAziQNuG1Llo_T5U3ayzO1ugiW9_o'\n",
    "\n",
    "\n",
    "# RAW_DATAFILE = config[company_name]['RAW_DATAFILE']\n",
    "RAW_DATAFILE = 'https://raw.githubusercontent.com/theventurecity/data-toolkit/master/data/ServBiz_transactions.csv'\n",
    "\n",
    "### Extract raw data\n",
    "t = pd.read_csv(RAW_DATAFILE)\n",
    "\n",
    "### Instantiate TVCLoad object with Google credentials file to write to Google Sheets\n",
    "bcl = bcload.BCLoad(GOOGLE_CREDENTIALS_FILE)\n",
    "\n",
    "\n",
    "### Define segments. Each Segment name maps to a segment_col name\n",
    "segments = {'Unsegmented' : None,\n",
    "            'Channel' : 'segment'\n",
    "            }\n",
    "\n",
    "\n",
    "for seg in segments:\n",
    "    print('Processing the', seg, 'segment')\n",
    "    \n",
    "    seg_col = segments[seg]\n",
    "    if seg_col is None:\n",
    "        use_seg = False\n",
    "    else:\n",
    "        use_seg = True\n",
    "\n",
    "    "
   ]
  },
  {
   "cell_type": "code",
   "execution_count": 33,
   "id": "d4f61a21-dcf3-457a-8e92-9537103c920c",
   "metadata": {},
   "outputs": [],
   "source": [
    "\n",
    "    # ### Transform the raw data into dau_decorated\n",
    "    # dau = bct.create_dau_df(t, \n",
    "    #                          user_id = 'client_id', \n",
    "    #                          activity_date = 'date', \n",
    "    #                          inc_amt = 'value_usd',\n",
    "    #                          segment_col = seg_col\n",
    "    #                         )\n",
    "    \n",
    "    # dau_decorated = bct.create_dau_decorated_df(dau)\n",
    "    \n",
    "    \n",
    "    # ### Calculate Weekly Growth Accounting and Cohort Analysis based on wau_decorated\n",
    "    # # WAU Decorated\n",
    "    # wau_decorated = bct.create_xau_decorated_df(dau_decorated, 'week', use_segment=use_seg)\n"
   ]
  },
  {
   "cell_type": "markdown",
   "id": "71e2b87d-ad4b-4b37-aad9-c711d2aab35d",
   "metadata": {},
   "source": [
    "## OUTPUT No. 1 - All Agent Intents"
   ]
  },
  {
   "cell_type": "code",
   "execution_count": 36,
   "id": "26e288b2-37b7-4e7e-b14d-9d6b35c63734",
   "metadata": {},
   "outputs": [],
   "source": [
    "from python import bc_transform"
   ]
  },
  {
   "cell_type": "code",
   "execution_count": 38,
   "id": "fc4be1d5-624e-4707-8361-5bd6b199b1b0",
   "metadata": {},
   "outputs": [
    {
     "ename": "EmptyDataError",
     "evalue": "No columns to parse from file",
     "output_type": "error",
     "traceback": [
      "\u001b[0;31m---------------------------------------------------------------------------\u001b[0m",
      "\u001b[0;31mEmptyDataError\u001b[0m                            Traceback (most recent call last)",
      "Cell \u001b[0;32mIn[38], line 2\u001b[0m\n\u001b[1;32m      1\u001b[0m \u001b[38;5;66;03m# ALL AGENT INTENTS\u001b[39;00m\n\u001b[0;32m----> 2\u001b[0m all_intents \u001b[38;5;241m=\u001b[39m \u001b[43mbc_transform\u001b[49m\u001b[38;5;241;43m.\u001b[39;49m\u001b[43mIntents\u001b[49m\u001b[38;5;241;43m.\u001b[39;49m\u001b[43mcreate_intents_df\u001b[49m\u001b[43m(\u001b[49m\u001b[43m)\u001b[49m\n\u001b[1;32m      4\u001b[0m \u001b[38;5;28mprint\u001b[39m(all_intents)\n\u001b[1;32m      7\u001b[0m bcl\u001b[38;5;241m.\u001b[39mwrite_to_google_sheet(all_intents, seg \u001b[38;5;241m+\u001b[39m \u001b[38;5;124m'\u001b[39m\u001b[38;5;124m All Agent Intents\u001b[39m\u001b[38;5;124m'\u001b[39m, GOOGLE_SPREADSHEET_KEY)\n",
      "File \u001b[0;32m~/skeleton/python/bc_transform.py:123\u001b[0m, in \u001b[0;36mIntents.create_intents_df\u001b[0;34m()\u001b[0m\n\u001b[1;32m    120\u001b[0m \u001b[38;5;66;03m# etl for output into g-sheets\u001b[39;00m\n\u001b[1;32m    121\u001b[0m \u001b[38;5;28mprint\u001b[39m(os\u001b[38;5;241m.\u001b[39msystem(\u001b[38;5;124m\"\u001b[39m\u001b[38;5;124mcat /Users/christophertrauco/skeleton/Data/intents | tr -d \u001b[39m\u001b[38;5;124m'\u001b[39m\u001b[38;5;130;01m\\\"\u001b[39;00m\u001b[38;5;124m'\u001b[39m\u001b[38;5;124m | tr -d \u001b[39m\u001b[38;5;124m'\u001b[39m\u001b[38;5;124m{\u001b[39m\u001b[38;5;124m'\u001b[39m\u001b[38;5;124m | tr -d \u001b[39m\u001b[38;5;124m'\u001b[39m\u001b[38;5;124m}\u001b[39m\u001b[38;5;124m'\u001b[39m\u001b[38;5;124m | awk \u001b[39m\u001b[38;5;124m'\u001b[39m\u001b[38;5;124m{\u001b[39m\u001b[38;5;124m if($0 !~ /^[[:space:]]*$/) print $0 }\u001b[39m\u001b[38;5;124m'\u001b[39m\u001b[38;5;124m  | sed \u001b[39m\u001b[38;5;124m'\u001b[39m\u001b[38;5;124ms/^ *//g\u001b[39m\u001b[38;5;124m'\u001b[39m\u001b[38;5;124m > /Users/christophertrauco/skeleton/Data/intents.csv\u001b[39m\u001b[38;5;124m\"\u001b[39m))\n\u001b[0;32m--> 123\u001b[0m df \u001b[38;5;241m=\u001b[39m \u001b[43mpd\u001b[49m\u001b[38;5;241;43m.\u001b[39;49m\u001b[43mread_csv\u001b[49m\u001b[43m(\u001b[49m\u001b[38;5;124;43m'\u001b[39;49m\u001b[38;5;124;43m/Users/christophertrauco/skeleton/Data/intents.csv\u001b[39;49m\u001b[38;5;124;43m'\u001b[39;49m\u001b[43m,\u001b[49m\u001b[43m \u001b[49m\u001b[43mon_bad_lines\u001b[49m\u001b[38;5;241;43m=\u001b[39;49m\u001b[38;5;124;43m'\u001b[39;49m\u001b[38;5;124;43mskip\u001b[39;49m\u001b[38;5;124;43m'\u001b[39;49m\u001b[43m)\u001b[49m\n\u001b[1;32m    125\u001b[0m \u001b[38;5;28;01mreturn\u001b[39;00m df\n",
      "File \u001b[0;32m/usr/local/lib/python3.11/site-packages/pandas/util/_decorators.py:211\u001b[0m, in \u001b[0;36mdeprecate_kwarg.<locals>._deprecate_kwarg.<locals>.wrapper\u001b[0;34m(*args, **kwargs)\u001b[0m\n\u001b[1;32m    209\u001b[0m     \u001b[38;5;28;01melse\u001b[39;00m:\n\u001b[1;32m    210\u001b[0m         kwargs[new_arg_name] \u001b[38;5;241m=\u001b[39m new_arg_value\n\u001b[0;32m--> 211\u001b[0m \u001b[38;5;28;01mreturn\u001b[39;00m \u001b[43mfunc\u001b[49m\u001b[43m(\u001b[49m\u001b[38;5;241;43m*\u001b[39;49m\u001b[43margs\u001b[49m\u001b[43m,\u001b[49m\u001b[43m \u001b[49m\u001b[38;5;241;43m*\u001b[39;49m\u001b[38;5;241;43m*\u001b[39;49m\u001b[43mkwargs\u001b[49m\u001b[43m)\u001b[49m\n",
      "File \u001b[0;32m/usr/local/lib/python3.11/site-packages/pandas/util/_decorators.py:331\u001b[0m, in \u001b[0;36mdeprecate_nonkeyword_arguments.<locals>.decorate.<locals>.wrapper\u001b[0;34m(*args, **kwargs)\u001b[0m\n\u001b[1;32m    325\u001b[0m \u001b[38;5;28;01mif\u001b[39;00m \u001b[38;5;28mlen\u001b[39m(args) \u001b[38;5;241m>\u001b[39m num_allow_args:\n\u001b[1;32m    326\u001b[0m     warnings\u001b[38;5;241m.\u001b[39mwarn(\n\u001b[1;32m    327\u001b[0m         msg\u001b[38;5;241m.\u001b[39mformat(arguments\u001b[38;5;241m=\u001b[39m_format_argument_list(allow_args)),\n\u001b[1;32m    328\u001b[0m         \u001b[38;5;167;01mFutureWarning\u001b[39;00m,\n\u001b[1;32m    329\u001b[0m         stacklevel\u001b[38;5;241m=\u001b[39mfind_stack_level(),\n\u001b[1;32m    330\u001b[0m     )\n\u001b[0;32m--> 331\u001b[0m \u001b[38;5;28;01mreturn\u001b[39;00m \u001b[43mfunc\u001b[49m\u001b[43m(\u001b[49m\u001b[38;5;241;43m*\u001b[39;49m\u001b[43margs\u001b[49m\u001b[43m,\u001b[49m\u001b[43m \u001b[49m\u001b[38;5;241;43m*\u001b[39;49m\u001b[38;5;241;43m*\u001b[39;49m\u001b[43mkwargs\u001b[49m\u001b[43m)\u001b[49m\n",
      "File \u001b[0;32m/usr/local/lib/python3.11/site-packages/pandas/io/parsers/readers.py:950\u001b[0m, in \u001b[0;36mread_csv\u001b[0;34m(filepath_or_buffer, sep, delimiter, header, names, index_col, usecols, squeeze, prefix, mangle_dupe_cols, dtype, engine, converters, true_values, false_values, skipinitialspace, skiprows, skipfooter, nrows, na_values, keep_default_na, na_filter, verbose, skip_blank_lines, parse_dates, infer_datetime_format, keep_date_col, date_parser, dayfirst, cache_dates, iterator, chunksize, compression, thousands, decimal, lineterminator, quotechar, quoting, doublequote, escapechar, comment, encoding, encoding_errors, dialect, error_bad_lines, warn_bad_lines, on_bad_lines, delim_whitespace, low_memory, memory_map, float_precision, storage_options)\u001b[0m\n\u001b[1;32m    935\u001b[0m kwds_defaults \u001b[38;5;241m=\u001b[39m _refine_defaults_read(\n\u001b[1;32m    936\u001b[0m     dialect,\n\u001b[1;32m    937\u001b[0m     delimiter,\n\u001b[0;32m   (...)\u001b[0m\n\u001b[1;32m    946\u001b[0m     defaults\u001b[38;5;241m=\u001b[39m{\u001b[38;5;124m\"\u001b[39m\u001b[38;5;124mdelimiter\u001b[39m\u001b[38;5;124m\"\u001b[39m: \u001b[38;5;124m\"\u001b[39m\u001b[38;5;124m,\u001b[39m\u001b[38;5;124m\"\u001b[39m},\n\u001b[1;32m    947\u001b[0m )\n\u001b[1;32m    948\u001b[0m kwds\u001b[38;5;241m.\u001b[39mupdate(kwds_defaults)\n\u001b[0;32m--> 950\u001b[0m \u001b[38;5;28;01mreturn\u001b[39;00m \u001b[43m_read\u001b[49m\u001b[43m(\u001b[49m\u001b[43mfilepath_or_buffer\u001b[49m\u001b[43m,\u001b[49m\u001b[43m \u001b[49m\u001b[43mkwds\u001b[49m\u001b[43m)\u001b[49m\n",
      "File \u001b[0;32m/usr/local/lib/python3.11/site-packages/pandas/io/parsers/readers.py:605\u001b[0m, in \u001b[0;36m_read\u001b[0;34m(filepath_or_buffer, kwds)\u001b[0m\n\u001b[1;32m    602\u001b[0m _validate_names(kwds\u001b[38;5;241m.\u001b[39mget(\u001b[38;5;124m\"\u001b[39m\u001b[38;5;124mnames\u001b[39m\u001b[38;5;124m\"\u001b[39m, \u001b[38;5;28;01mNone\u001b[39;00m))\n\u001b[1;32m    604\u001b[0m \u001b[38;5;66;03m# Create the parser.\u001b[39;00m\n\u001b[0;32m--> 605\u001b[0m parser \u001b[38;5;241m=\u001b[39m \u001b[43mTextFileReader\u001b[49m\u001b[43m(\u001b[49m\u001b[43mfilepath_or_buffer\u001b[49m\u001b[43m,\u001b[49m\u001b[43m \u001b[49m\u001b[38;5;241;43m*\u001b[39;49m\u001b[38;5;241;43m*\u001b[39;49m\u001b[43mkwds\u001b[49m\u001b[43m)\u001b[49m\n\u001b[1;32m    607\u001b[0m \u001b[38;5;28;01mif\u001b[39;00m chunksize \u001b[38;5;129;01mor\u001b[39;00m iterator:\n\u001b[1;32m    608\u001b[0m     \u001b[38;5;28;01mreturn\u001b[39;00m parser\n",
      "File \u001b[0;32m/usr/local/lib/python3.11/site-packages/pandas/io/parsers/readers.py:1442\u001b[0m, in \u001b[0;36mTextFileReader.__init__\u001b[0;34m(self, f, engine, **kwds)\u001b[0m\n\u001b[1;32m   1439\u001b[0m     \u001b[38;5;28mself\u001b[39m\u001b[38;5;241m.\u001b[39moptions[\u001b[38;5;124m\"\u001b[39m\u001b[38;5;124mhas_index_names\u001b[39m\u001b[38;5;124m\"\u001b[39m] \u001b[38;5;241m=\u001b[39m kwds[\u001b[38;5;124m\"\u001b[39m\u001b[38;5;124mhas_index_names\u001b[39m\u001b[38;5;124m\"\u001b[39m]\n\u001b[1;32m   1441\u001b[0m \u001b[38;5;28mself\u001b[39m\u001b[38;5;241m.\u001b[39mhandles: IOHandles \u001b[38;5;241m|\u001b[39m \u001b[38;5;28;01mNone\u001b[39;00m \u001b[38;5;241m=\u001b[39m \u001b[38;5;28;01mNone\u001b[39;00m\n\u001b[0;32m-> 1442\u001b[0m \u001b[38;5;28mself\u001b[39m\u001b[38;5;241m.\u001b[39m_engine \u001b[38;5;241m=\u001b[39m \u001b[38;5;28;43mself\u001b[39;49m\u001b[38;5;241;43m.\u001b[39;49m\u001b[43m_make_engine\u001b[49m\u001b[43m(\u001b[49m\u001b[43mf\u001b[49m\u001b[43m,\u001b[49m\u001b[43m \u001b[49m\u001b[38;5;28;43mself\u001b[39;49m\u001b[38;5;241;43m.\u001b[39;49m\u001b[43mengine\u001b[49m\u001b[43m)\u001b[49m\n",
      "File \u001b[0;32m/usr/local/lib/python3.11/site-packages/pandas/io/parsers/readers.py:1753\u001b[0m, in \u001b[0;36mTextFileReader._make_engine\u001b[0;34m(self, f, engine)\u001b[0m\n\u001b[1;32m   1750\u001b[0m     \u001b[38;5;28;01mraise\u001b[39;00m \u001b[38;5;167;01mValueError\u001b[39;00m(msg)\n\u001b[1;32m   1752\u001b[0m \u001b[38;5;28;01mtry\u001b[39;00m:\n\u001b[0;32m-> 1753\u001b[0m     \u001b[38;5;28;01mreturn\u001b[39;00m \u001b[43mmapping\u001b[49m\u001b[43m[\u001b[49m\u001b[43mengine\u001b[49m\u001b[43m]\u001b[49m\u001b[43m(\u001b[49m\u001b[43mf\u001b[49m\u001b[43m,\u001b[49m\u001b[43m \u001b[49m\u001b[38;5;241;43m*\u001b[39;49m\u001b[38;5;241;43m*\u001b[39;49m\u001b[38;5;28;43mself\u001b[39;49m\u001b[38;5;241;43m.\u001b[39;49m\u001b[43moptions\u001b[49m\u001b[43m)\u001b[49m\n\u001b[1;32m   1754\u001b[0m \u001b[38;5;28;01mexcept\u001b[39;00m \u001b[38;5;167;01mException\u001b[39;00m:\n\u001b[1;32m   1755\u001b[0m     \u001b[38;5;28;01mif\u001b[39;00m \u001b[38;5;28mself\u001b[39m\u001b[38;5;241m.\u001b[39mhandles \u001b[38;5;129;01mis\u001b[39;00m \u001b[38;5;129;01mnot\u001b[39;00m \u001b[38;5;28;01mNone\u001b[39;00m:\n",
      "File \u001b[0;32m/usr/local/lib/python3.11/site-packages/pandas/io/parsers/c_parser_wrapper.py:79\u001b[0m, in \u001b[0;36mCParserWrapper.__init__\u001b[0;34m(self, src, **kwds)\u001b[0m\n\u001b[1;32m     76\u001b[0m     kwds\u001b[38;5;241m.\u001b[39mpop(key, \u001b[38;5;28;01mNone\u001b[39;00m)\n\u001b[1;32m     78\u001b[0m kwds[\u001b[38;5;124m\"\u001b[39m\u001b[38;5;124mdtype\u001b[39m\u001b[38;5;124m\"\u001b[39m] \u001b[38;5;241m=\u001b[39m ensure_dtype_objs(kwds\u001b[38;5;241m.\u001b[39mget(\u001b[38;5;124m\"\u001b[39m\u001b[38;5;124mdtype\u001b[39m\u001b[38;5;124m\"\u001b[39m, \u001b[38;5;28;01mNone\u001b[39;00m))\n\u001b[0;32m---> 79\u001b[0m \u001b[38;5;28mself\u001b[39m\u001b[38;5;241m.\u001b[39m_reader \u001b[38;5;241m=\u001b[39m \u001b[43mparsers\u001b[49m\u001b[38;5;241;43m.\u001b[39;49m\u001b[43mTextReader\u001b[49m\u001b[43m(\u001b[49m\u001b[43msrc\u001b[49m\u001b[43m,\u001b[49m\u001b[43m \u001b[49m\u001b[38;5;241;43m*\u001b[39;49m\u001b[38;5;241;43m*\u001b[39;49m\u001b[43mkwds\u001b[49m\u001b[43m)\u001b[49m\n\u001b[1;32m     81\u001b[0m \u001b[38;5;28mself\u001b[39m\u001b[38;5;241m.\u001b[39munnamed_cols \u001b[38;5;241m=\u001b[39m \u001b[38;5;28mself\u001b[39m\u001b[38;5;241m.\u001b[39m_reader\u001b[38;5;241m.\u001b[39munnamed_cols\n\u001b[1;32m     83\u001b[0m \u001b[38;5;66;03m# error: Cannot determine type of 'names'\u001b[39;00m\n",
      "File \u001b[0;32m/usr/local/lib/python3.11/site-packages/pandas/_libs/parsers.pyx:554\u001b[0m, in \u001b[0;36mpandas._libs.parsers.TextReader.__cinit__\u001b[0;34m()\u001b[0m\n",
      "\u001b[0;31mEmptyDataError\u001b[0m: No columns to parse from file"
     ]
    }
   ],
   "source": [
    "# ALL AGENT INTENTS\n",
    "all_intents = bc_transform.Intents.create_intents_df()\n",
    "\n",
    "print(all_intents)\n",
    "\n",
    "\n",
    "bcl.write_to_google_sheet(all_intents, seg + ' All Agent Intents', GOOGLE_SPREADSHEET_KEY)\n",
    "\n"
   ]
  },
  {
   "cell_type": "code",
   "execution_count": null,
   "id": "b92c0667-235d-4002-a4ee-8a533d5e5b41",
   "metadata": {},
   "outputs": [],
   "source": [
    "\n",
    "    # Weekly Growth Accounting\n",
    "    w_ga = bct.consolidate_all_ga(wau_decorated, 'week', \n",
    "                                     use_segment = use_seg, \n",
    "                                     growth_rate_periods = 12, \n",
    "                                     keep_last_period = False)\n",
    "    bcl.write_to_google_sheet(w_ga, seg + ' Weekly Growth Accounting', GOOGLE_SPREADSHEET_KEY)\n",
    "    \n",
    "    # Weekly Cohorts\n",
    "    wau_cohorts = bct.create_xau_cohort_df(wau_decorated, 'week', use_segment = use_seg)\n",
    "    bcl.write_to_google_sheet(wau_cohorts, seg + ' Weekly Cohorts', GOOGLE_SPREADSHEET_KEY)\n",
    "    \n",
    "    \n",
    "    \n",
    "    ### Calculate Monthly Growth Accounting and Cohort Analysis based on mau_decorated\n",
    "    # MAU Decorated\n",
    "    mau_decorated = bct.create_xau_decorated_df(dau_decorated, 'month', use_segment=use_seg)\n",
    "    \n",
    "    # Monthly Growth Accounting\n",
    "    m_ga = bct.consolidate_all_ga(mau_decorated, 'month', \n",
    "                                     use_segment = use_seg, \n",
    "                                     growth_rate_periods = 12, \n",
    "                                     keep_last_period = False)\n",
    "    tvcl.write_to_google_sheet(m_ga, seg + ' Monthly Growth Accounting', GOOGLE_SPREADSHEET_KEY)\n",
    "    \n",
    "    # Monthly Cohorts\n",
    "    mau_cohorts = bct.create_xau_cohort_df(mau_decorated, 'month', use_segment=use_seg)\n",
    "    bcl.write_to_google_sheet(mau_cohorts, seg + ' Monthly Cohorts', GOOGLE_SPREADSHEET_KEY)\n",
    "    \n",
    "    \n",
    "    \n",
    "    ### Calculate the Rolling 28-Day DAU/MAU ratios\n",
    "    rolling_dau_mau = bct.create_xau_window_df(dau_decorated, \n",
    "                                              time_period = 'day',\n",
    "                                              window_days = 28, \n",
    "                                              breakouts = [2, 4, 8, 12, 16, 20],\n",
    "                                              use_segment = use_seg,\n",
    "                                              use_final_day = False)\n",
    "    bcl.write_to_google_sheet(rolling_dau_mau, seg + ' Rolling DAU/MAU', GOOGLE_SPREADSHEET_KEY)\n",
    "    \n",
    "    \n",
    "    ### Calculate the Rolling 28-Day WAU/MAU ratios\n",
    "    rolling_wau_mau = bct.create_xau_window_df(dau_decorated, \n",
    "                                              time_period = 'week',\n",
    "                                              window_days = 28, \n",
    "                                              breakouts = [2, 3, 4],\n",
    "                                              use_segment = use_seg,\n",
    "                                              use_final_day = False)\n",
    "    bcl.write_to_google_sheet(rolling_wau_mau, seg + ' Rolling WAU/MAU', GOOGLE_SPREADSHEET_KEY)"
   ]
  },
  {
   "cell_type": "code",
   "execution_count": null,
   "id": "925653a0-4a52-4d3f-ac50-106b573656be",
   "metadata": {},
   "outputs": [],
   "source": []
  },
  {
   "cell_type": "code",
   "execution_count": null,
   "id": "b3a02503-5a4d-4e89-b417-9a296f927242",
   "metadata": {},
   "outputs": [],
   "source": []
  },
  {
   "cell_type": "code",
   "execution_count": null,
   "id": "3ff41a83-5920-4f3f-b3c3-d1f7322ff30f",
   "metadata": {},
   "outputs": [],
   "source": []
  },
  {
   "cell_type": "code",
   "execution_count": null,
   "id": "c2bbae70-958b-440c-8060-df587ef44809",
   "metadata": {},
   "outputs": [],
   "source": []
  },
  {
   "cell_type": "code",
   "execution_count": null,
   "id": "53a7a7c9-53f9-40f1-b8a4-bfe141823267",
   "metadata": {},
   "outputs": [],
   "source": []
  },
  {
   "cell_type": "code",
   "execution_count": null,
   "id": "ff9bfb93-8152-4505-88ea-db996b625946",
   "metadata": {},
   "outputs": [],
   "source": []
  },
  {
   "cell_type": "code",
   "execution_count": null,
   "id": "8244f769-e701-44d4-9600-91a71fb4e9f0",
   "metadata": {},
   "outputs": [],
   "source": []
  },
  {
   "cell_type": "code",
   "execution_count": null,
   "id": "416f15a8-a4e4-480c-bbc7-24c876b9b3a4",
   "metadata": {},
   "outputs": [],
   "source": []
  },
  {
   "cell_type": "code",
   "execution_count": null,
   "id": "3f35b997-d2ce-4984-83bf-b98180f8a7d8",
   "metadata": {},
   "outputs": [],
   "source": []
  },
  {
   "cell_type": "code",
   "execution_count": null,
   "id": "1bd90969-1551-49be-8972-727b95371eff",
   "metadata": {},
   "outputs": [],
   "source": []
  },
  {
   "cell_type": "code",
   "execution_count": null,
   "id": "6c0620e4-8532-4d94-a6b2-88f60a615676",
   "metadata": {},
   "outputs": [],
   "source": []
  },
  {
   "cell_type": "code",
   "execution_count": null,
   "id": "29946014-1b22-424c-99bf-9fb122e44ad6",
   "metadata": {},
   "outputs": [],
   "source": []
  },
  {
   "cell_type": "code",
   "execution_count": null,
   "id": "91977395-cf71-43d6-8ec9-43a17d58344c",
   "metadata": {},
   "outputs": [],
   "source": []
  },
  {
   "cell_type": "code",
   "execution_count": null,
   "id": "8d8f4214-1c8b-48cf-bd87-cbfffb79fef2",
   "metadata": {},
   "outputs": [],
   "source": []
  },
  {
   "cell_type": "code",
   "execution_count": null,
   "id": "5933c49f-b6bc-4cb9-b987-1ad85611ddb7",
   "metadata": {},
   "outputs": [],
   "source": []
  },
  {
   "cell_type": "code",
   "execution_count": null,
   "id": "5ffc9b1e-69f5-47a8-bc2a-3d999de76f33",
   "metadata": {},
   "outputs": [],
   "source": []
  },
  {
   "cell_type": "code",
   "execution_count": null,
   "id": "1a172c59-4fa7-42db-9ebe-536d74066032",
   "metadata": {},
   "outputs": [],
   "source": []
  },
  {
   "cell_type": "code",
   "execution_count": null,
   "id": "99d912b4-59d5-417b-b035-25d2cb6fc208",
   "metadata": {},
   "outputs": [],
   "source": []
  },
  {
   "cell_type": "code",
   "execution_count": null,
   "id": "2b99e946-f942-4105-815c-2ec27a4cd2c9",
   "metadata": {},
   "outputs": [],
   "source": []
  },
  {
   "cell_type": "code",
   "execution_count": null,
   "id": "ab39f764-4ab8-4a39-b674-4bea5260a559",
   "metadata": {},
   "outputs": [],
   "source": []
  }
 ],
 "metadata": {
  "kernelspec": {
   "display_name": "local-venv-kernel",
   "language": "python",
   "name": "local-venv-kernel"
  },
  "language_info": {
   "codemirror_mode": {
    "name": "ipython",
    "version": 3
   },
   "file_extension": ".py",
   "mimetype": "text/x-python",
   "name": "python",
   "nbconvert_exporter": "python",
   "pygments_lexer": "ipython3",
   "version": "3.11.6"
  }
 },
 "nbformat": 4,
 "nbformat_minor": 5
}
