{
 "cells": [
  {
   "cell_type": "markdown",
   "id": "7313fb49-e7b4-4c0a-9a71-4a525beee140",
   "metadata": {},
   "source": [
    "### convert config.ini to config.yaml"
   ]
  },
  {
   "cell_type": "code",
   "execution_count": 10,
   "id": "df6b7c9f-4b2d-4ad1-be49-946b078016c7",
   "metadata": {},
   "outputs": [],
   "source": [
    "import configparser\n",
    "import yaml"
   ]
  },
  {
   "cell_type": "raw",
   "id": "d604d69b-47c1-419b-8448-973041cbbf9c",
   "metadata": {},
   "source": [
    "\n",
    "config_object = configparser.ConfigParser()\n",
    "file =open(\"/Users/christophertrauco/skeleton/python/config.ini\",\"r\")\n",
    "yaml_file =open(\"config.yaml\",\"w\")\n",
    "config_object.read_file(file)\n",
    "output_dict=dict()\n",
    "sections=config_object.sections()R\n",
    "for section in sections:\n",
    "    items=config_object.items(section)\n",
    "    output_dict[section]=dict(items)\n",
    "yaml.dump(output_dict,yaml_file)\n",
    "yaml_file.close()\n",
    "file.close()"
   ]
  },
  {
   "cell_type": "code",
   "execution_count": null,
   "id": "679d3ce5-4424-4426-88d1-eaa6493d6a91",
   "metadata": {},
   "outputs": [],
   "source": []
  },
  {
   "cell_type": "raw",
   "id": "f47e10d4-9a7d-4cb5-8887-bde5d1de142c",
   "metadata": {},
   "source": [
    "# -*- coding: utf-8 -*-\n",
    "\n",
    "# skeleton is for the logic of the data flows, coiabs is not important at this time\n",
    "# from google.colab import auth\n",
    "from oauth2client.client import GoogleCredentials\n",
    "import gspread\n",
    "from gspread_dataframe import set_with_dataframe\n",
    "\n",
    "\n",
    "\n",
    "def google_authenticate():\n",
    "    auth.authenticate_user()\n",
    "    gc = gspread.authorize(GoogleCredentials.get_application_default())\n",
    "    return gc\n",
    "\n",
    "\n",
    "\n",
    "def write_to_google_sheet(dataframe, spreadsheet_key, worksheet_name, goog_creds):\n",
    "    sh = goog_creds.open_by_key(spreadsheet_key)\n",
    "    ws = None\n",
    "    worksheet_list = sh.worksheets()\n",
    "    for worksheet in worksheet_list:\n",
    "        if worksheet.title == worksheet_name:\n",
    "            ws = worksheet\n",
    "            \n",
    "    if ws is None:\n",
    "        ws = sh.add_worksheet(title = worksheet_name, rows=\"1\", cols = \"1\")\n",
    "\n",
    "    set_with_dataframe(ws, dataframe, row=1, col=1, include_index=False, \n",
    "                       include_column_header=True, resize=True, \n",
    "                       allow_formulas=True)"
   ]
  },
  {
   "cell_type": "code",
   "execution_count": 11,
   "id": "ebfe3b59-cf3e-49f4-b7dd-d5c0aa63cd65",
   "metadata": {},
   "outputs": [],
   "source": [
    "# -*- coding: utf-8 -*-\n",
    "\n",
    "import gspread\n",
    "from gspread_dataframe import set_with_dataframe\n",
    "from oauth2client.service_account import ServiceAccountCredentials\n",
    "\n",
    "SCOPES = ['https://www.googleapis.com/auth/spreadsheets'] \n",
    "\n",
    "# class TVCLoad:\n",
    "#     def __init__(self, credentials_file):\n",
    "#         self.gc = self.init_gsheets_client(credentials_file, SCOPES)\n",
    "\n",
    "class BCLoad:\n",
    "    def __init__(self, credentials_file):\n",
    "        self.gc = self.init_gsheets_client(credentials_file, SCOPES)\n",
    "\n",
    "\n",
    "    def init_gsheets_client(self, credentials_file, scopes,  **kwargs):\n",
    "        creds = ServiceAccountCredentials.from_json_keyfile_name(credentials_file, \n",
    "                                                                 scopes)\n",
    "        client = gspread.authorize(creds)\n",
    "        \n",
    "        return client\n",
    "\n",
    "    \n",
    "    \n",
    "    def write_to_google_sheet(self, dataframe, worksheet_name, spreadsheet_key):\n",
    "      \n",
    "      sh = self.gc.open_by_key(spreadsheet_key)\n",
    "      \n",
    "      ws = None\n",
    "      worksheet_list = sh.worksheets()\n",
    "      for worksheet in worksheet_list:\n",
    "        if worksheet.title == worksheet_name:\n",
    "          ws = worksheet\n",
    "      if ws is None:\n",
    "        ws = sh.add_worksheet(title = worksheet_name, rows=\"1\", cols = \"1\")\n",
    "        \n",
    "      set_with_dataframe(ws, dataframe, row=1, col=1, include_index=False, \n",
    "                         include_column_header=True, resize=True, allow_formulas=True)    \n",
    "    \n",
    "\n",
    "    "
   ]
  },
  {
   "cell_type": "markdown",
   "id": "13efe078-d7ae-4c35-926b-c840d72370e0",
   "metadata": {},
   "source": [
    "# PIPELINE LOGIC"
   ]
  },
  {
   "cell_type": "code",
   "execution_count": 12,
   "id": "932690e0-2c75-4ea4-bb74-403efaf134f2",
   "metadata": {},
   "outputs": [],
   "source": [
    "# -*- coding: utf-8 -*-\n",
    "\n",
    "### Import Relevant Libraries\n",
    "import os"
   ]
  },
  {
   "cell_type": "markdown",
   "id": "4c9f1a42-5187-434c-bde8-eca517877bb0",
   "metadata": {},
   "source": [
    "# ⬇️ RETURN TO THIS AFTER THE DATA FLOW LOGIC CONFIRMED ⬇️"
   ]
  },
  {
   "cell_type": "code",
   "execution_count": 13,
   "id": "a81d870d-e546-4d74-8483-c8eb82b7b2b0",
   "metadata": {},
   "outputs": [],
   "source": [
    "\n",
    "# PYTHON_FOLDER = os.environ['PYTHON_FOLDER']  # Requires an environment variable to be preset\n",
    "# os.chdir(PYTHON_FOLDER)\n"
   ]
  },
  {
   "cell_type": "markdown",
   "id": "cac4fad4-c78b-43d2-9556-e19aa87a069d",
   "metadata": {},
   "source": [
    "# ⬆️  RETURN TO THIS AFTER THE DATA FLOW LOGIC CONFIRMED ⬆️ "
   ]
  },
  {
   "cell_type": "code",
   "execution_count": 19,
   "id": "e02b4cfb-09ad-4633-90b0-795c1b831807",
   "metadata": {},
   "outputs": [],
   "source": [
    "import pandas as pd\n",
    "import configparser\n",
    "\n",
    "import sys\n",
    "\n",
    "from python import bc_transform\n",
    "from python import bc_load_service_account as bcload\n",
    "\n",
    "### Set up Python output to show every dataframe column\n",
    "pd.set_option('display.max_columns', 500)\n"
   ]
  },
  {
   "cell_type": "code",
   "execution_count": 20,
   "id": "808965ee-888b-4a72-a154-0cc423c6e83b",
   "metadata": {},
   "outputs": [],
   "source": [
    "\n",
    "\n",
    "\n",
    "### Set variables by reading from the config.ini file\n",
    "company_name = 'ServBiz'\n",
    "# config = configparser.ConfigParser()\n",
    "# config.read('config.yaml')\n",
    "\n",
    "#GOOGLE_CREDENTIALS_FILE = config[company_name]['GOOGLE_CREDENTIALS_FILE']\n",
    "GOOGLE_CREDENTIALS_FILE = 'credentials.json'\n",
    "\n",
    "# GOOGLE_SPREADSHEET_KEY = config[company_name]['GOOGLE_SPREADSHEET_KEY']\n",
    "GOOGLE_SPREADSHEET_KEY = '1ETXNPRMjKcsbIdKAziQNuG1Llo_T5U3ayzO1ugiW9_o'\n",
    "\n",
    "\n",
    "# RAW_DATAFILE = config[company_name]['RAW_DATAFILE']\n",
    "RAW_DATAFILE = 'https://raw.githubusercontent.com/theventurecity/data-toolkit/master/data/ServBiz_transactions.csv'\n",
    "\n",
    "### Extract raw data\n",
    "t = pd.read_csv(RAW_DATAFILE)\n",
    "\n",
    "### Instantiate TVCLoad object with Google credentials file to write to Google Sheets\n",
    "bcl = bcload.BCLoad(GOOGLE_CREDENTIALS_FILE)\n",
    "\n",
    "\n",
    "### Define segments. Each Segment name maps to a segment_col name\n",
    "segments = {'Unsegmented' : None,\n",
    "            'Channel' : 'segment'\n",
    "            }\n",
    "\n",
    "\n",
    "for seg in segments:\n",
    "    print('Processing the', seg, 'segment')\n",
    "    \n",
    "    seg_col = segments[seg]\n",
    "    if seg_col is None:\n",
    "        use_seg = False\n",
    "    else:\n",
    "        use_seg = True\n",
    "\n",
    "    "
   ]
  },
  {
   "cell_type": "code",
   "execution_count": 21,
   "id": "d4f61a21-dcf3-457a-8e92-9537103c920c",
   "metadata": {},
   "outputs": [],
   "source": [
    "\n",
    "    # ### Transform the raw data into dau_decorated\n",
    "    # dau = bct.create_dau_df(t, \n",
    "    #                          user_id = 'client_id', \n",
    "    #                          activity_date = 'date', \n",
    "    #                          inc_amt = 'value_usd',\n",
    "    #                          segment_col = seg_col\n",
    "    #                         )\n",
    "    \n",
    "    # dau_decorated = bct.create_dau_decorated_df(dau)\n",
    "    \n",
    "    \n",
    "    # ### Calculate Weekly Growth Accounting and Cohort Analysis based on wau_decorated\n",
    "    # # WAU Decorated\n",
    "    # wau_decorated = bct.create_xau_decorated_df(dau_decorated, 'week', use_segment=use_seg)\n"
   ]
  },
  {
   "cell_type": "markdown",
   "id": "71e2b87d-ad4b-4b37-aad9-c711d2aab35d",
   "metadata": {},
   "source": [
    "## OUTPUT No. 1 - All Agent Intents"
   ]
  },
  {
   "cell_type": "code",
   "execution_count": 22,
   "id": "fc4be1d5-624e-4707-8361-5bd6b199b1b0",
   "metadata": {},
   "outputs": [
    {
     "ename": "NameError",
     "evalue": "name 'bct' is not defined",
     "output_type": "error",
     "traceback": [
      "\u001b[0;31m---------------------------------------------------------------------------\u001b[0m",
      "\u001b[0;31mNameError\u001b[0m                                 Traceback (most recent call last)",
      "Cell \u001b[0;32mIn[22], line 2\u001b[0m\n\u001b[1;32m      1\u001b[0m \u001b[38;5;66;03m# ALL AGENT INTENTS\u001b[39;00m\n\u001b[0;32m----> 2\u001b[0m all_intents \u001b[38;5;241m=\u001b[39m \u001b[43mbc_transform\u001b[49m\u001b[38;5;241;43m.\u001b[39;49m\u001b[43mIntents\u001b[49m\u001b[38;5;241;43m.\u001b[39;49m\u001b[43mcreate_intents_df\u001b[49m\u001b[43m(\u001b[49m\u001b[43m)\u001b[49m\n\u001b[1;32m      4\u001b[0m \u001b[38;5;28mprint\u001b[39m(all_intents)\n\u001b[1;32m      7\u001b[0m bcl\u001b[38;5;241m.\u001b[39mwrite_to_google_sheet(all_intents, seg \u001b[38;5;241m+\u001b[39m \u001b[38;5;124m'\u001b[39m\u001b[38;5;124m All Agent Intents\u001b[39m\u001b[38;5;124m'\u001b[39m, GOOGLE_SPREADSHEET_KEY)\n",
      "File \u001b[0;32m~/skeleton/python/bc_transform.py:117\u001b[0m, in \u001b[0;36mIntents.create_intents_df\u001b[0;34m()\u001b[0m\n\u001b[1;32m    114\u001b[0m sys\u001b[38;5;241m.\u001b[39mstdout \u001b[38;5;241m=\u001b[39m \u001b[38;5;28mopen\u001b[39m(\u001b[38;5;124m\"\u001b[39m\u001b[38;5;124mintents\u001b[39m\u001b[38;5;124m\"\u001b[39m, \u001b[38;5;124m\"\u001b[39m\u001b[38;5;124mwt\u001b[39m\u001b[38;5;124m\"\u001b[39m)\n\u001b[1;32m    116\u001b[0m \u001b[38;5;66;03m# print objects\u001b[39;00m\n\u001b[0;32m--> 117\u001b[0m \u001b[38;5;28mprint\u001b[39m(\u001b[43mbct\u001b[49m\u001b[38;5;241m.\u001b[39mIntents\u001b[38;5;241m.\u001b[39mlist_intents())  \n\u001b[1;32m    119\u001b[0m \u001b[38;5;66;03m# etl for output into g-sheets\u001b[39;00m\n\u001b[1;32m    120\u001b[0m os\u001b[38;5;241m.\u001b[39msystem(\u001b[38;5;124m\"\u001b[39m\u001b[38;5;124mcat intents | tr -d \u001b[39m\u001b[38;5;124m'\u001b[39m\u001b[38;5;130;01m\\\"\u001b[39;00m\u001b[38;5;124m'\u001b[39m\u001b[38;5;124m | tr -d \u001b[39m\u001b[38;5;124m'\u001b[39m\u001b[38;5;124m{\u001b[39m\u001b[38;5;124m'\u001b[39m\u001b[38;5;124m | tr -d \u001b[39m\u001b[38;5;124m'\u001b[39m\u001b[38;5;124m}\u001b[39m\u001b[38;5;124m'\u001b[39m\u001b[38;5;124m | awk \u001b[39m\u001b[38;5;124m'\u001b[39m\u001b[38;5;124m{\u001b[39m\u001b[38;5;124m if($0 !~ /^[[:space:]]*$/) print $0 }\u001b[39m\u001b[38;5;124m'\u001b[39m\u001b[38;5;124m  | sed \u001b[39m\u001b[38;5;124m'\u001b[39m\u001b[38;5;124ms/^ *//g\u001b[39m\u001b[38;5;124m'\u001b[39m\u001b[38;5;124m > intents.csv\u001b[39m\u001b[38;5;124m\"\u001b[39m)\n",
      "\u001b[0;31mNameError\u001b[0m: name 'bct' is not defined"
     ]
    }
   ],
   "source": [
    "# ALL AGENT INTENTS\n",
    "all_intents = bc_transform.Intents.create_intents_df()\n",
    "\n",
    "print(all_intents)\n",
    "\n",
    "\n",
    "bcl.write_to_google_sheet(all_intents, seg + ' All Agent Intents', GOOGLE_SPREADSHEET_KEY)\n",
    "\n"
   ]
  },
  {
   "cell_type": "code",
   "execution_count": null,
   "id": "b92c0667-235d-4002-a4ee-8a533d5e5b41",
   "metadata": {},
   "outputs": [],
   "source": [
    "\n",
    "    # Weekly Growth Accounting\n",
    "    w_ga = bct.consolidate_all_ga(wau_decorated, 'week', \n",
    "                                     use_segment = use_seg, \n",
    "                                     growth_rate_periods = 12, \n",
    "                                     keep_last_period = False)\n",
    "    bcl.write_to_google_sheet(w_ga, seg + ' Weekly Growth Accounting', GOOGLE_SPREADSHEET_KEY)\n",
    "    \n",
    "    # Weekly Cohorts\n",
    "    wau_cohorts = bct.create_xau_cohort_df(wau_decorated, 'week', use_segment = use_seg)\n",
    "    bcl.write_to_google_sheet(wau_cohorts, seg + ' Weekly Cohorts', GOOGLE_SPREADSHEET_KEY)\n",
    "    \n",
    "    \n",
    "    \n",
    "    ### Calculate Monthly Growth Accounting and Cohort Analysis based on mau_decorated\n",
    "    # MAU Decorated\n",
    "    mau_decorated = bct.create_xau_decorated_df(dau_decorated, 'month', use_segment=use_seg)\n",
    "    \n",
    "    # Monthly Growth Accounting\n",
    "    m_ga = bct.consolidate_all_ga(mau_decorated, 'month', \n",
    "                                     use_segment = use_seg, \n",
    "                                     growth_rate_periods = 12, \n",
    "                                     keep_last_period = False)\n",
    "    tvcl.write_to_google_sheet(m_ga, seg + ' Monthly Growth Accounting', GOOGLE_SPREADSHEET_KEY)\n",
    "    \n",
    "    # Monthly Cohorts\n",
    "    mau_cohorts = bct.create_xau_cohort_df(mau_decorated, 'month', use_segment=use_seg)\n",
    "    bcl.write_to_google_sheet(mau_cohorts, seg + ' Monthly Cohorts', GOOGLE_SPREADSHEET_KEY)\n",
    "    \n",
    "    \n",
    "    \n",
    "    ### Calculate the Rolling 28-Day DAU/MAU ratios\n",
    "    rolling_dau_mau = bct.create_xau_window_df(dau_decorated, \n",
    "                                              time_period = 'day',\n",
    "                                              window_days = 28, \n",
    "                                              breakouts = [2, 4, 8, 12, 16, 20],\n",
    "                                              use_segment = use_seg,\n",
    "                                              use_final_day = False)\n",
    "    bcl.write_to_google_sheet(rolling_dau_mau, seg + ' Rolling DAU/MAU', GOOGLE_SPREADSHEET_KEY)\n",
    "    \n",
    "    \n",
    "    ### Calculate the Rolling 28-Day WAU/MAU ratios\n",
    "    rolling_wau_mau = bct.create_xau_window_df(dau_decorated, \n",
    "                                              time_period = 'week',\n",
    "                                              window_days = 28, \n",
    "                                              breakouts = [2, 3, 4],\n",
    "                                              use_segment = use_seg,\n",
    "                                              use_final_day = False)\n",
    "    bcl.write_to_google_sheet(rolling_wau_mau, seg + ' Rolling WAU/MAU', GOOGLE_SPREADSHEET_KEY)"
   ]
  },
  {
   "cell_type": "code",
   "execution_count": null,
   "id": "925653a0-4a52-4d3f-ac50-106b573656be",
   "metadata": {},
   "outputs": [],
   "source": []
  },
  {
   "cell_type": "code",
   "execution_count": null,
   "id": "b3a02503-5a4d-4e89-b417-9a296f927242",
   "metadata": {},
   "outputs": [],
   "source": []
  },
  {
   "cell_type": "code",
   "execution_count": null,
   "id": "3ff41a83-5920-4f3f-b3c3-d1f7322ff30f",
   "metadata": {},
   "outputs": [],
   "source": []
  }
 ],
 "metadata": {
  "kernelspec": {
   "display_name": "Python 3 (ipykernel)",
   "language": "python",
   "name": "python3"
  },
  "language_info": {
   "codemirror_mode": {
    "name": "ipython",
    "version": 3
   },
   "file_extension": ".py",
   "mimetype": "text/x-python",
   "name": "python",
   "nbconvert_exporter": "python",
   "pygments_lexer": "ipython3",
   "version": "3.11.6"
  }
 },
 "nbformat": 4,
 "nbformat_minor": 5
}
